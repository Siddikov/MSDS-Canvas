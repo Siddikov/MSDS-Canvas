{
 "cells": [
  {
   "cell_type": "markdown",
   "metadata": {},
   "source": [
    "# MSDS 430 Module 9 Python Assignment"
   ]
  },
  {
   "cell_type": "markdown",
   "metadata": {},
   "source": [
    "<font color=green> In this exercise, we will go over a brief introduction and examples around the Object-Oriented Programming (OOP) topic of **Inheritance** in Python:\n",
    "</font>"
   ]
  },
  {
   "cell_type": "markdown",
   "metadata": {},
   "source": [
    "### Inheritance\n",
    "\n",
    "In Python you have the ability to create a new class as an extension of another class. When **extending** a class, we call the original class the **parent class** and the new class the **child class**. The child class has the same internal structure as the parent class.\n",
    "\n",
    "This will be a lot easier to see in an example."
   ]
  },
  {
   "cell_type": "markdown",
   "metadata": {},
   "source": [
    "### Example Classes: Pet & Dog\n",
    "In this example we will first create a `class` **Pet**. Then, we will create a class **Dog** that extends the **Pet** class. "
   ]
  },
  {
   "cell_type": "code",
   "execution_count": 1,
   "metadata": {},
   "outputs": [],
   "source": [
    "class Pet:\n",
    "    \n",
    "    def __init__(self, name, age):\n",
    "        self.name = name\n",
    "        self.age = age\n",
    "        \n",
    "    def __str__(self):\n",
    "        return (self.name + \" is \" + str(self.age) + \" year(s) old.\" )\n",
    "\n",
    "class Dog(Pet):\n",
    "    \n",
    "    def walking(self):\n",
    "        print(self.name, \"is walking.\")\n",
    "\n",
    "    def sitting(self):\n",
    "        print(self.name, \"is sitting.\")"
   ]
  },
  {
   "cell_type": "markdown",
   "metadata": {},
   "source": [
    "In the above example, the Pet class is first defined. Then the dog class extends the parent class **Pet** using the `class ChildClass(ParentClass)` :-\n",
    "\n",
    "```` \n",
    "class Dog(Pet): \n",
    "````\n",
    "\n",
    "The **Pet** class has a `species` class variable, the initialization method `__init__` and the `__str__` method. In the **Dog** class the two methods `walking` and `sitting` have been defined.\n",
    "\n",
    "Now, lets create some Pet and Dog instances to see how this works. "
   ]
  },
  {
   "cell_type": "markdown",
   "metadata": {},
   "source": [
    "Ok, that was straightforward. Lets try creating a Dog object. \n",
    "\n",
    "We don't see an initialization method in the Dog class. So, lets just create a Dog object with no parameters."
   ]
  },
  {
   "cell_type": "code",
   "execution_count": 2,
   "metadata": {},
   "outputs": [
    {
     "ename": "TypeError",
     "evalue": "__init__() missing 2 required positional arguments: 'name' and 'age'",
     "output_type": "error",
     "traceback": [
      "\u001b[1;31m---------------------------------------------------------------------------\u001b[0m",
      "\u001b[1;31mTypeError\u001b[0m                                 Traceback (most recent call last)",
      "\u001b[1;32m<ipython-input-2-752f4e283df2>\u001b[0m in \u001b[0;36m<module>\u001b[1;34m\u001b[0m\n\u001b[1;32m----> 1\u001b[1;33m \u001b[0md1\u001b[0m \u001b[1;33m=\u001b[0m \u001b[0mDog\u001b[0m\u001b[1;33m(\u001b[0m\u001b[1;33m)\u001b[0m\u001b[1;33m\u001b[0m\u001b[1;33m\u001b[0m\u001b[0m\n\u001b[0m",
      "\u001b[1;31mTypeError\u001b[0m: __init__() missing 2 required positional arguments: 'name' and 'age'"
     ]
    }
   ],
   "source": [
    "d1 = Dog()"
   ]
  },
  {
   "cell_type": "markdown",
   "metadata": {},
   "source": [
    "Hmm.. that was interesting. Take a look at the TypeError:\n",
    "```\n",
    "TypeError: __init__() missing 2 required positional arguments: 'name' and 'age'\n",
    "```\n",
    "The `__init__` method is expecting 2 arguments a name and an age. But, we don't see it in the Dog class definition. How did that happen?\n",
    "\n",
    "This is because Dog 'inherits' the attributes and methods of the Pet class. We know that Dog is a subclass or child class of Pet. The Pet class does have an `__init__` method that takes two parameters name and age.  \n",
    "\n",
    "Lets create a Dog object with a name and age."
   ]
  },
  {
   "cell_type": "code",
   "execution_count": 3,
   "metadata": {},
   "outputs": [
    {
     "name": "stdout",
     "output_type": "stream",
     "text": [
      "Jack is 1 year(s) old.\n"
     ]
    }
   ],
   "source": [
    "d1 = Dog(\"Jack\",1)\n",
    "print(d1)"
   ]
  },
  {
   "cell_type": "markdown",
   "metadata": {},
   "source": [
    "So, we were able to create a `Dog` object using name and age parameter. We were also able to print it. \n",
    "\n",
    "So, far all the methods we used were inherited from the parent class (**Pet**). Now, lets try using the methods we defined just for the **Dog** class."
   ]
  },
  {
   "cell_type": "code",
   "execution_count": 4,
   "metadata": {},
   "outputs": [
    {
     "name": "stdout",
     "output_type": "stream",
     "text": [
      "Jack is sitting.\n",
      "Jack is walking.\n"
     ]
    }
   ],
   "source": [
    "d1.sitting()\n",
    "\n",
    "d1.walking()"
   ]
  },
  {
   "cell_type": "markdown",
   "metadata": {},
   "source": [
    "Ok, Jack can sit and walk as we expected from a **Dog** object.\n",
    "\n",
    "Lets create a **Pet** object with the name \"Buddy\" who is 2 years of age. Then we will check whether Buddy can sit or walk?\n"
   ]
  },
  {
   "cell_type": "code",
   "execution_count": 5,
   "metadata": {},
   "outputs": [
    {
     "ename": "AttributeError",
     "evalue": "'Pet' object has no attribute 'sitting'",
     "output_type": "error",
     "traceback": [
      "\u001b[1;31m---------------------------------------------------------------------------\u001b[0m",
      "\u001b[1;31mAttributeError\u001b[0m                            Traceback (most recent call last)",
      "\u001b[1;32m<ipython-input-5-1c77348c487b>\u001b[0m in \u001b[0;36m<module>\u001b[1;34m\u001b[0m\n\u001b[0;32m      1\u001b[0m \u001b[0mp1\u001b[0m \u001b[1;33m=\u001b[0m \u001b[0mPet\u001b[0m\u001b[1;33m(\u001b[0m\u001b[1;34m\"Buddy\"\u001b[0m\u001b[1;33m,\u001b[0m \u001b[1;36m2\u001b[0m\u001b[1;33m)\u001b[0m\u001b[1;33m\u001b[0m\u001b[1;33m\u001b[0m\u001b[0m\n\u001b[1;32m----> 2\u001b[1;33m \u001b[0mp1\u001b[0m\u001b[1;33m.\u001b[0m\u001b[0msitting\u001b[0m\u001b[1;33m(\u001b[0m\u001b[1;33m)\u001b[0m\u001b[1;33m\u001b[0m\u001b[1;33m\u001b[0m\u001b[0m\n\u001b[0m",
      "\u001b[1;31mAttributeError\u001b[0m: 'Pet' object has no attribute 'sitting'"
     ]
    }
   ],
   "source": [
    "p1 = Pet(\"Buddy\", 2)\n",
    "p1.sitting()"
   ]
  },
  {
   "cell_type": "markdown",
   "metadata": {},
   "source": [
    "The `AttributeError` makes sense. The **Pet** object didn't have a `sitting` or `walking` method.  "
   ]
  },
  {
   "cell_type": "markdown",
   "metadata": {},
   "source": [
    "We defined the Pet and Dog classes so we know who is the parent and who is the child. But, what if we wanted to know **the subclasses** of either one? \n",
    "\n",
    "\n",
    "#### Get all subclasses (or child classes): `ClassName.__subclasses__()`"
   ]
  },
  {
   "cell_type": "code",
   "execution_count": 6,
   "metadata": {},
   "outputs": [
    {
     "data": {
      "text/plain": [
       "[__main__.Dog]"
      ]
     },
     "execution_count": 6,
     "metadata": {},
     "output_type": "execute_result"
    }
   ],
   "source": [
    "Pet.__subclasses__()"
   ]
  },
  {
   "cell_type": "markdown",
   "metadata": {},
   "source": [
    "**Pet** has the **Dog** subclass. That is what we expected. Lets see if **Dog** has any subclasses."
   ]
  },
  {
   "cell_type": "code",
   "execution_count": 7,
   "metadata": {},
   "outputs": [
    {
     "data": {
      "text/plain": [
       "[]"
      ]
     },
     "execution_count": 7,
     "metadata": {},
     "output_type": "execute_result"
    }
   ],
   "source": [
    "Dog.__subclasses__()"
   ]
  },
  {
   "cell_type": "markdown",
   "metadata": {},
   "source": [
    "Nope, thats an empty list. So, **Dog**  has no subclasses. \n",
    "\n",
    "#### Get all parent classes: `inspect.getmro(ClassName))`\n",
    "The mro in getmro stands for method resolution order. The getmro function returns all the parent classes of a class in order.\n",
    "\n",
    "If we had three classes A , B and C as follows, then inspect.getmro(C) would return classes C, B, A and object in a tuple. This is because C inherits from B who in turn inherits from A. On the execution of a method on an object of class C, first the definition of class C will be checked followed by B and then A.\n",
    "\n",
    "    Class A:\n",
    "        ...\n",
    "\n",
    "    Class B(A):\n",
    "        ...\n",
    "\n",
    "    Class C(B):\n",
    "        ...\n",
    "\n",
    "Lets test this function on the Dog class."
   ]
  },
  {
   "cell_type": "code",
   "execution_count": 8,
   "metadata": {},
   "outputs": [
    {
     "data": {
      "text/plain": [
       "(__main__.Dog, __main__.Pet, object)"
      ]
     },
     "execution_count": 8,
     "metadata": {},
     "output_type": "execute_result"
    }
   ],
   "source": [
    "import inspect\n",
    "\n",
    "inspect.getmro(Dog)"
   ]
  },
  {
   "cell_type": "markdown",
   "metadata": {},
   "source": [
    "This is what we can expect since **Dog** inherits from **Pet** which doesn't have any parent classes besides `object`.\n",
    "\n",
    "The function `getmro` is pretty powerful. But, what if we were ok with just checking the immediate parent of a class?\n",
    "\n",
    "#### Whose my parent? `ClassName.__base__`"
   ]
  },
  {
   "cell_type": "code",
   "execution_count": 9,
   "metadata": {},
   "outputs": [
    {
     "data": {
      "text/plain": [
       "__main__.Pet"
      ]
     },
     "execution_count": 9,
     "metadata": {},
     "output_type": "execute_result"
    }
   ],
   "source": [
    "Dog.__base__"
   ]
  },
  {
   "cell_type": "code",
   "execution_count": 10,
   "metadata": {},
   "outputs": [
    {
     "data": {
      "text/plain": [
       "object"
      ]
     },
     "execution_count": 10,
     "metadata": {},
     "output_type": "execute_result"
    }
   ],
   "source": [
    "Pet.__base__"
   ]
  },
  {
   "cell_type": "markdown",
   "metadata": {},
   "source": [
    "This works for us too."
   ]
  },
  {
   "cell_type": "markdown",
   "metadata": {},
   "source": [
    "Now, lets do some inheritance testing. What if we wanted to explicitly check if **Dog** was a subclass of **Pet**?\n",
    "\n",
    "#### Inheritance Testing Option 1: `ParentClass.__subclasscheck__(ChildClass)`"
   ]
  },
  {
   "cell_type": "code",
   "execution_count": 11,
   "metadata": {},
   "outputs": [
    {
     "data": {
      "text/plain": [
       "True"
      ]
     },
     "execution_count": 11,
     "metadata": {},
     "output_type": "execute_result"
    }
   ],
   "source": [
    "Pet.__subclasscheck__(Dog)"
   ]
  },
  {
   "cell_type": "markdown",
   "metadata": {},
   "source": [
    "`True` indicates that **Dog** is a subclass of **Pet**. Lets check the reverse. "
   ]
  },
  {
   "cell_type": "code",
   "execution_count": 12,
   "metadata": {},
   "outputs": [
    {
     "data": {
      "text/plain": [
       "False"
      ]
     },
     "execution_count": 12,
     "metadata": {},
     "output_type": "execute_result"
    }
   ],
   "source": [
    "Dog.__subclasscheck__(Pet)"
   ]
  },
  {
   "cell_type": "markdown",
   "metadata": {},
   "source": [
    "`False` makes sense since **Pet** is not a subclass of **Dog** "
   ]
  },
  {
   "cell_type": "markdown",
   "metadata": {},
   "source": [
    "\n",
    "#### Inheritance Testing Option 2: `instance(ChildClassObject,ParentClass)`\n",
    "\n",
    "In this one, we have to use an object as the first parameter and check whether the object is an instance of a class or of a subclass thereof."
   ]
  },
  {
   "cell_type": "code",
   "execution_count": 13,
   "metadata": {},
   "outputs": [
    {
     "data": {
      "text/plain": [
       "True"
      ]
     },
     "execution_count": 13,
     "metadata": {},
     "output_type": "execute_result"
    }
   ],
   "source": [
    "isinstance(d1,Pet)"
   ]
  },
  {
   "cell_type": "code",
   "execution_count": 14,
   "metadata": {},
   "outputs": [
    {
     "data": {
      "text/plain": [
       "True"
      ]
     },
     "execution_count": 14,
     "metadata": {},
     "output_type": "execute_result"
    }
   ],
   "source": [
    "isinstance(p1,Pet)"
   ]
  },
  {
   "cell_type": "code",
   "execution_count": 15,
   "metadata": {},
   "outputs": [
    {
     "data": {
      "text/plain": [
       "False"
      ]
     },
     "execution_count": 15,
     "metadata": {},
     "output_type": "execute_result"
    }
   ],
   "source": [
    "isinstance(p1,Dog)"
   ]
  },
  {
   "cell_type": "markdown",
   "metadata": {},
   "source": [
    "The first two in the above make sense since d1 is a dog instance which is a subclass of Pet and p1 is a Pet object.\n",
    "\n",
    "The last one is `False` because Pet object is not an instance of Dog but its parent. \n",
    "\n",
    "Lets take a look at another example."
   ]
  },
  {
   "cell_type": "markdown",
   "metadata": {},
   "source": [
    "### Example Class: Labrador\n",
    "\n",
    "We will define a new class **Labrador** that extends the **Dog** class.  "
   ]
  },
  {
   "cell_type": "code",
   "execution_count": 16,
   "metadata": {},
   "outputs": [],
   "source": [
    "class Labrador(Dog):\n",
    "    \n",
    "    def __init__(self, name, age, color):\n",
    "        super().__init__(name, age)\n",
    "        self.color = color\n",
    "    \n",
    "    def __str__(self):\n",
    "        return (self.name + \" is a \" + str(self.color) + \"-colored \" + str(self.age) + \"-year(s) old labrador.\")"
   ]
  },
  {
   "cell_type": "markdown",
   "metadata": {},
   "source": [
    "In the class definition of Labrador we decided to have slightly different `__init__` and `__str__` methods than the parent classes. When you declare a method in a child class with the same name as the one in the parent class, the child class method is said to be **overriding** the method in the parent class.\n",
    "\n",
    "Lets create a Labrador object and print it."
   ]
  },
  {
   "cell_type": "code",
   "execution_count": 17,
   "metadata": {},
   "outputs": [
    {
     "name": "stdout",
     "output_type": "stream",
     "text": [
      "Phoenicia is a brown-colored 4-year(s) old labrador.\n"
     ]
    }
   ],
   "source": [
    "lab1 = Labrador(\"Phoenicia\",4,\"brown\")\n",
    "print(lab1)"
   ]
  },
  {
   "cell_type": "markdown",
   "metadata": {},
   "source": [
    "In the above, both the initialization and string conversion methods of the Labrador class are used and not of the parent classes.\n",
    "\n",
    "In the `__init__` function above, we used a function `super()`. What was that for?\n",
    "\n",
    "The super function can be used to gain access to inherited methods that have been overwritten in a class object. \n",
    "\n",
    "The line of code `super().__init__(name, age)` in the **Labrador** class executes the __init__ method of the Dog class. This was to reuse some of the earlier code for initializing the name and age of the Labrador. But, since Labrador has an additional instance variable color, we initialized it in the end. \n",
    "\n",
    "**Note: You don't need to supply `self` when you use `super()` in Python 3.x**\n",
    "\n",
    "Lets apply some of the earlier functions to see the parent-child relationships."
   ]
  },
  {
   "cell_type": "code",
   "execution_count": 18,
   "metadata": {},
   "outputs": [
    {
     "name": "stdout",
     "output_type": "stream",
     "text": [
      "The base class of Labrador is <class '__main__.Dog'>\n",
      "\n",
      "Is Labrador a subclass of Dog? True\n",
      "\n",
      "Is a Labrador instance an instance of Dog as well? True\n",
      "\n",
      "All the parent classes of Labrador are: (<class '__main__.Labrador'>, <class '__main__.Dog'>, <class '__main__.Pet'>, <class 'object'>)\n"
     ]
    }
   ],
   "source": [
    "print(\"The base class of Labrador is \" + str(Labrador.__base__))\n",
    "\n",
    "print(\"\\nIs Labrador a subclass of Dog? \"+ str(Dog.__subclasscheck__(Labrador)))\n",
    "\n",
    "print(\"\\nIs a Labrador instance an instance of Dog as well? \" + str(isinstance(lab1,Dog)))\n",
    "\n",
    "import inspect\n",
    "print(\"\\nAll the parent classes of Labrador are: \" + str(inspect.getmro(Labrador)))"
   ]
  },
  {
   "cell_type": "markdown",
   "metadata": {},
   "source": [
    "**Problem 1 (10 pts.):** Complete the class definition below along with the 'Test cases' that follow."
   ]
  },
  {
   "cell_type": "code",
   "execution_count": 19,
   "metadata": {},
   "outputs": [
    {
     "name": "stdout",
     "output_type": "stream",
     "text": [
      "\n",
      "ISBN: 199957950X\n",
      "Title: The Hundred-Page Machine Learning Book\n",
      "Author: Andriy Burkov\n",
      "\n",
      "ISBN: B07F7LS2ZW\n",
      "Title: Who Moved My Cheese?\n",
      "Author: Spencer Johnson\n",
      "\n",
      "ISBN: B07F7LS2ZW\n",
      "Title: Who Moved My Cheese?\n",
      "Author: Spencer Johnson\n",
      "Price: 25\n",
      "Size(MB): 13\n",
      "\n",
      "ISBN: B07F7LS2ZW\n",
      "Title: Who Moved My Cheese?\n",
      "Author: Spencer Johnson\n",
      "Price: 14\n",
      "Number of pages: 100\n",
      "Shipping Weight: 3.5\n",
      "\n",
      "All the parent classes of KindleBook are: (<class '__main__.KindleBook'>, <class '__main__.Book'>, <class 'object'>)\n",
      "<class '__main__.Book'>\n"
     ]
    }
   ],
   "source": [
    "class Book:\n",
    "    \n",
    "    def __init__(self, isbn, title, author):\n",
    "        self.isbn = isbn\n",
    "        self.title = title\n",
    "        self.author = author\n",
    "        \n",
    "    def __str__(self):\n",
    "        return (\"\\nISBN: \" + self.isbn + \"\\nTitle: \" + self.title + \"\\nAuthor: \" + self.author)\n",
    "    \n",
    "class KindleBook(Book):\n",
    "    \n",
    "    def __init__(self, isbn, title, author, price, file_size):\n",
    "        super().__init__(isbn, title, author)\n",
    "        # TODO: initialize the instance price attribute     \n",
    "        self.price = price\n",
    "        # TODO: initialize the instance file_size attribute     \n",
    "        self.file_size = file_size\n",
    "        \n",
    "    def __str__(self):\n",
    "        return (super().__str__() + \"\\nPrice: \" + str(self.price) + \"\\nSize(MB): \" + str(self.file_size))\n",
    "        \n",
    "class PaperBack(Book):\n",
    "    \n",
    "    def __init__(self, isbn, title, author, price, num_pages, shipping_weight):\n",
    "        super().__init__(isbn, title, author)\n",
    "        self.price = price\n",
    "        self.num_pages = num_pages\n",
    "        self.shipping_weight = shipping_weight\n",
    "\n",
    "    def __str__(self):\n",
    "        return (super().__str__() + \"\\nPrice: \" + str(self.price) + \"\\nNumber of pages: \" + str(self.num_pages) + \n",
    "               \"\\nShipping Weight: \" + str(self.shipping_weight))\n",
    "\n",
    "# Test Cases\n",
    "\n",
    "# Create a book object 'book1' with ISBN=199957950X, Title = The Hundred-Page Machine Learning Book, Author = Andriy Burkov\n",
    "book1 = Book(\"199957950X\",\"The Hundred-Page Machine Learning Book\",\"Andriy Burkov\")\n",
    "\n",
    "# TODO: print the book1 object\n",
    "print(book1)\n",
    "\n",
    "# TODO: Create a book object 'book2' with ISBN=B07F7LS2ZW, Title = Who Moved My Cheese?, Author = Spencer Johnson\n",
    "book2 = Book(\"B07F7LS2ZW\",\"Who Moved My Cheese?\",\"Spencer Johnson\")\n",
    "\n",
    "# TODO: print the book2 object\n",
    "print(book2)\n",
    "\n",
    "# TODO: Create a KindleBook object 'kb2' with ISBN = B07F7LS2ZW, Title = Who Moved My Cheese? , \n",
    "# Author = Spencer Johnson, price = $25, file size = 13MB\n",
    "kb2 = KindleBook(\"B07F7LS2ZW\", \"Who Moved My Cheese?\", \"Spencer Johnson\", 25, 13)\n",
    "\n",
    "# print the kb2 object\n",
    "print(kb2)\n",
    "\n",
    "# TODO: Create a PaperBack object 'pb2' with ISBN=B07F7LS2ZW, Title = Who Moved My Cheese?, \n",
    "# Author = Spencer Johnson, price = $14, number of pages = 100, shipping weight = 3.5 lb\n",
    "pb2 = PaperBack(\"B07F7LS2ZW\", \"Who Moved My Cheese?\", \"Spencer Johnson\", 14, 100, 3.5)\n",
    "\n",
    "# TODO: print the pb2 object\n",
    "print(pb2)\n",
    "\n",
    "# TODO: Print all the parent classes of the class KindleBook\n",
    "import inspect\n",
    "print(\"\\nAll the parent classes of KindleBook are: \" + str(inspect.getmro(KindleBook)))\n",
    "\n",
    "\n",
    "# TODO: Display only the immediate parent class of PaperBack\n",
    "print(PaperBack.__base__)"
   ]
  },
  {
   "cell_type": "markdown",
   "metadata": {},
   "source": [
    "**Problem 2 (8 pts.):** Complete the class definition below along with the 'Test cases' that follow."
   ]
  },
  {
   "cell_type": "code",
   "execution_count": 20,
   "metadata": {},
   "outputs": [
    {
     "name": "stdout",
     "output_type": "stream",
     "text": [
      "\n",
      "ISBN: 199957950X\n",
      "Title: The Hundred-Page Machine Learning Book\n",
      "Author: Andriy Burkov\n",
      "Price: $29.99\n",
      "Narrator: Ben Kingsley\n",
      "Duration(min): 189\n",
      "\n",
      "ISBN: 199957950X\n",
      "Title: The Hundred-Page Machine Learning Book\n",
      "Author: Andriy Burkov\n",
      "Price: $29.99\n",
      "Narrator: Ben Kingsley\n",
      "Duration(min): 189\n",
      "Filesize(MB): 126\n",
      "\n",
      "ISBN: 199957950X\n",
      "Title: The Hundred-Page Machine Learning Book\n",
      "Author: Andriy Burkov\n",
      "Price: $31.99\n",
      "Narrator: Ben Kingsley\n",
      "Duration(min): 189\n",
      "ShippingWeight(LB): 1.5\n",
      "\n",
      "Is acd1 an instance of class Book? True\n",
      "(<class '__main__.AudioCDBook'>, <class '__main__.AudioBook'>, <class '__main__.Book'>, <class 'object'>)\n"
     ]
    }
   ],
   "source": [
    "class AudioBook(Book):\n",
    "    \n",
    "    def __init__(self, isbn, title, author, price, narrator, listening_length):\n",
    "        # TODO: Using super() initialize the isbn, title and author instance variables\n",
    "        super().__init__(isbn, title, author)\n",
    "        \n",
    "        self.price = price\n",
    "        self.narrator = narrator\n",
    "        # TODO: initialize the listening_length instance variable\n",
    "        self.listening_length = listening_length\n",
    "        \n",
    "    def __str__(self):\n",
    "        return (super().__str__() + \"\\nPrice: $\" + str(self.price) + \"\\nNarrator: \" + str(self.narrator) +\n",
    "               \"\\nDuration(min): \" + str(self.listening_length))\n",
    "    \n",
    "    \n",
    "class AudioMP3Book(AudioBook):\n",
    "    def __init__(self, isbn, title, author, price, narrator, listening_length, file_size):\n",
    "        super().__init__(isbn, title, author, price, narrator, listening_length)\n",
    "        # TODO: initialize the file_size instance variable\n",
    "        self.file_size = file_size\n",
    "\n",
    "    def __str__(self):\n",
    "        return (super().__str__() + \"\\nFilesize(MB): \" + str(self.file_size))\n",
    "        \n",
    "class AudioCDBook(AudioBook):\n",
    "    def __init__(self, isbn, title, author, price, narrator, listening_length, shipping_weight):\n",
    "        super().__init__(isbn, title, author, price, narrator, listening_length)\n",
    "        # TODO: initialize the shipping_weight instance variable\n",
    "        self.shipping_weight = shipping_weight\n",
    "        \n",
    "    def __str__(self):\n",
    "        # TODO: return a string representation of class that includes all the instance attributes \n",
    "         return (super().__str__() + \"\\nShippingWeight(LB): \" + str(self.shipping_weight))\n",
    "\n",
    "# Test Cases\n",
    "# Create an AudioBook object 'ab1' with ISBN=199957950X, Title = The Hundred-Page Machine Learning Book, Author = Andriy Burkov,\n",
    "# price = 29.99 , narrator = Ben Kingsley, listening_length = 189\n",
    "ab1 = AudioBook(\"199957950X\",\"The Hundred-Page Machine Learning Book\",\"Andriy Burkov\",29.99,\"Ben Kingsley\",189)\n",
    "\n",
    "# print the ab1 object\n",
    "print(ab1)\n",
    "\n",
    "# Create an AudioMP3Book object 'amp3' with ISBN=199957950X, Title = The Hundred-Page Machine Learning Book, Author = Andriy Burkov,\n",
    "# price = 31.99 , narrator = Ben Kingsley, listening_length = 189 mins, file_size = 126 MB\n",
    "amp3 = AudioMP3Book(\"199957950X\",\"The Hundred-Page Machine Learning Book\",\"Andriy Burkov\",29.99,\"Ben Kingsley\",189, 126)\n",
    "\n",
    "# TODO: print the amp3 object\n",
    "print(amp3)\n",
    "\n",
    "# TODO: Create an AudioCDBook object 'acd1' with ISBN=199957950X, Title = The Hundred-Page Machine Learning Book, Author = Andriy Burkov,\n",
    "# price = 31.99 , narrator = Ben Kingsley, listening_length = 189 mins, shipping_weight = 1.5 LB\n",
    "acd1 = AudioCDBook(\"199957950X\", \"The Hundred-Page Machine Learning Book\", \"Andriy Burkov\", 31.99,\"Ben Kingsley\", 189, 1.5)\n",
    "\n",
    "# print the acd1 object\n",
    "print(acd1)\n",
    "\n",
    "#TODO: Check whether acd1 is an instance of class Book\n",
    "print(\"\\nIs acd1 an instance of class Book? \" + str(isinstance(acd1,Book)))\n",
    "\n",
    "# print all the parent classes of AudioCDBook\n",
    "print(inspect.getmro(AudioCDBook))"
   ]
  }
 ],
 "metadata": {
  "kernelspec": {
   "display_name": "Python 3",
   "language": "python",
   "name": "python3"
  },
  "language_info": {
   "codemirror_mode": {
    "name": "ipython",
    "version": 3
   },
   "file_extension": ".py",
   "mimetype": "text/x-python",
   "name": "python",
   "nbconvert_exporter": "python",
   "pygments_lexer": "ipython3",
   "version": "3.7.1"
  },
  "varInspector": {
   "cols": {
    "lenName": 16,
    "lenType": 16,
    "lenVar": 40
   },
   "kernels_config": {
    "python": {
     "delete_cmd_postfix": "",
     "delete_cmd_prefix": "del ",
     "library": "var_list.py",
     "varRefreshCmd": "print(var_dic_list())"
    },
    "r": {
     "delete_cmd_postfix": ") ",
     "delete_cmd_prefix": "rm(",
     "library": "var_list.r",
     "varRefreshCmd": "cat(var_dic_list()) "
    }
   },
   "types_to_exclude": [
    "module",
    "function",
    "builtin_function_or_method",
    "instance",
    "_Feature"
   ],
   "window_display": false
  }
 },
 "nbformat": 4,
 "nbformat_minor": 2
}
