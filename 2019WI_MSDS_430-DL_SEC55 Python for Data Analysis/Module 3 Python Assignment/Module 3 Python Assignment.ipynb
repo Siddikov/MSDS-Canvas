{
 "cells": [
  {
   "cell_type": "markdown",
   "metadata": {},
   "source": [
    "# MSDS 430 Module 3 Python Assignment"
   ]
  },
  {
   "cell_type": "markdown",
   "metadata": {},
   "source": [
    "#### In this assignment you will complete the following exercises and submit your notebook (ipynb file) to Canvas. Your file should include all output, i.e. run each cell and save your file before submitting."
   ]
  },
  {
   "cell_type": "markdown",
   "metadata": {},
   "source": [
    "Problem 1 (2 pts.): Python has many built-in math functions within the math module. A list of these can be found at https://docs.python.org/3/library/math.html. Use the math.pi( ) function to calculate the volume of a sphere with radius 5 rounded to 3 decimals."
   ]
  },
  {
   "cell_type": "code",
   "execution_count": 1,
   "metadata": {},
   "outputs": [
    {
     "name": "stdout",
     "output_type": "stream",
     "text": [
      "The volume of a sphere 523.599\n"
     ]
    }
   ],
   "source": [
    "import math\n",
    "\n",
    "def sphere(r):\n",
    "    v = round(4 / 3 * math.pi * r ** 3, 3)\n",
    "    return v\n",
    "\n",
    "radius = 5\n",
    "result = sphere(radius)\n",
    "print(\"The volume of a sphere\", result)"
   ]
  },
  {
   "cell_type": "markdown",
   "metadata": {},
   "source": [
    "Problem 2 (2 pts.): Create a for loop that calculates the square root of the integers 1 through 10."
   ]
  },
  {
   "cell_type": "code",
   "execution_count": 2,
   "metadata": {},
   "outputs": [
    {
     "name": "stdout",
     "output_type": "stream",
     "text": [
      "Square root of 1 is 1.0\n",
      "Square root of 2 is 1.414\n",
      "Square root of 3 is 1.732\n",
      "Square root of 4 is 2.0\n",
      "Square root of 5 is 2.236\n",
      "Square root of 6 is 2.449\n",
      "Square root of 7 is 2.646\n",
      "Square root of 8 is 2.828\n",
      "Square root of 9 is 3.0\n",
      "Square root of 10 is 3.162\n"
     ]
    }
   ],
   "source": [
    "import math\n",
    "\n",
    "for i in range(1,11):\n",
    "    sqRoot = round(math.sqrt(i),3)\n",
    "    print(\"Square root of {} is {}\".format(i, sqRoot))"
   ]
  },
  {
   "cell_type": "markdown",
   "metadata": {},
   "source": [
    "Problem 3 (4 pts.): Create a while loop that calculates the square root of the integers 1 through 10."
   ]
  },
  {
   "cell_type": "code",
   "execution_count": 3,
   "metadata": {},
   "outputs": [
    {
     "name": "stdout",
     "output_type": "stream",
     "text": [
      "Square root of 1 is 1.0\n",
      "Square root of 2 is 1.414\n",
      "Square root of 3 is 1.732\n",
      "Square root of 4 is 2.0\n",
      "Square root of 5 is 2.236\n",
      "Square root of 6 is 2.449\n",
      "Square root of 7 is 2.646\n",
      "Square root of 8 is 2.828\n",
      "Square root of 9 is 3.0\n",
      "Square root of 10 is 3.162\n"
     ]
    }
   ],
   "source": [
    "import math\n",
    "\n",
    "i = 0\n",
    "while i < 10:\n",
    "    i = i + 1\n",
    "    sqRoot = round(math.sqrt(i),3)\n",
    "    print(\"Square root of {} is {}\".format(i, sqRoot))"
   ]
  },
  {
   "attachments": {
    "module-3-output-2.PNG": {
     "image/png": "[encoded data removed]"
    }
   },
   "cell_type": "markdown",
   "metadata": {},
   "source": [
    "Problem 4 (6 pts.): Suppose the operator `!=` does not exist in Python. Define a function `not_equal` that takes any two numbers and gives the same result as the `!=` operator. You cannot use `!=` in your program. Test your program using `x = -12` and `y = 3`; `x = 3` and `y = -12`; and `x = y = -12`. \n",
    "<br><br>*See example output below:*\n",
    "![module-3-output-2.PNG](attachment:module-3-output-2.PNG)"
   ]
  },
  {
   "cell_type": "code",
   "execution_count": 4,
   "metadata": {},
   "outputs": [
    {
     "name": "stdout",
     "output_type": "stream",
     "text": [
      "-12 and 3 are not equal\n",
      "3 and -12 are not equal\n",
      "-12 and -12 are equal\n",
      "3 and 3 are equal\n"
     ]
    }
   ],
   "source": [
    "def not_equal(x, y):\n",
    "    if x == y:\n",
    "        return \"{} and {} are equal\".format(x, y)\n",
    "    else:\n",
    "        return \"{} and {} are not equal\".format(x, y)\n",
    "\n",
    "print(not_equal (-12, 3))\n",
    "print(not_equal (3, -12))\n",
    "print(not_equal (-12, -12))\n",
    "print(not_equal (3, 3))"
   ]
  },
  {
   "attachments": {
    "module-3-output.PNG": {
     "image/png": "[encoded data removed]"
    }
   },
   "cell_type": "markdown",
   "metadata": {},
   "source": [
    "Problem 5 (8 pts.): Complete a program containing user defined functions that prints out a nxn square. You can use a function to print the top line, a function to print each row, and a final function to print the whole grid. The lines of code that have to be provided are precededed by  **# TODO:**. \n",
    "\n",
    "**Example Output: Your 1x1, 2x2, 3x3 and 10x10 squares should look like the following:**\n",
    "\n",
    "![module-3-output.PNG](attachment:module-3-output.PNG)"
   ]
  },
  {
   "cell_type": "code",
   "execution_count": 5,
   "metadata": {},
   "outputs": [],
   "source": [
    "# For an nxn square the top line contains a space ' ' followed by an '_' repeated 'n' number of times\n",
    "def print_top_line(n):\n",
    "    line = \"\"\n",
    "    for i in range(0,n):\n",
    "        line+=\" _\"\n",
    "    # print the line variable\n",
    "    print(line)\n",
    "\n",
    "# For an nxn square a row contains a pipe '|' followed by an underscore '_' repeated 'n' number of times\n",
    "# *and* a pipe '|' symbol at the end\n",
    "def print_row(n):\n",
    "    # TODO: Initialize the line variable to an empty string\n",
    "    line = \"\"\n",
    "    for i in range(0,n):\n",
    "        line+=\"|_\"\n",
    "    # TODO: After the completion of the for loop, append a final pipe '|' to the line variable \n",
    "    finalPip = line + \"|\"\n",
    "    # TODO: print the line variable\n",
    "    print(finalPip)\n",
    "    \n",
    "# Combine the two functions by printing the top line followed by the row 'n' times \n",
    "def print_square(n):\n",
    "    print_top_line(n)\n",
    "    # in a loop print row n times\n",
    "    for i in range(0,n):    \n",
    "        # TODO: invoke the print_row function with the parameter n \n",
    "        print_row(n)\n",
    "        \n",
    "# Test Cases\n",
    "# TODO: 1) use the print_square function to print a 1x1 square \n",
    "\n",
    "# TODO: 2) use the print_square function to print a 2x2 square \n",
    "\n",
    "# TODO: 3) use the print_square function to print a 3x3 square\n",
    "\n",
    "# TODO: 3) use the print_square function to print a 10x10 square\n"
   ]
  },
  {
   "cell_type": "code",
   "execution_count": 6,
   "metadata": {},
   "outputs": [
    {
     "name": "stdout",
     "output_type": "stream",
     "text": [
      " _\n",
      "|_|\n"
     ]
    }
   ],
   "source": [
    "print_square(1)"
   ]
  },
  {
   "cell_type": "code",
   "execution_count": 7,
   "metadata": {},
   "outputs": [
    {
     "name": "stdout",
     "output_type": "stream",
     "text": [
      " _ _\n",
      "|_|_|\n",
      "|_|_|\n"
     ]
    }
   ],
   "source": [
    "print_square(2)"
   ]
  },
  {
   "cell_type": "code",
   "execution_count": 8,
   "metadata": {},
   "outputs": [
    {
     "name": "stdout",
     "output_type": "stream",
     "text": [
      " _ _ _\n",
      "|_|_|_|\n",
      "|_|_|_|\n",
      "|_|_|_|\n"
     ]
    }
   ],
   "source": [
    "print_square(3)"
   ]
  },
  {
   "cell_type": "code",
   "execution_count": 9,
   "metadata": {},
   "outputs": [
    {
     "name": "stdout",
     "output_type": "stream",
     "text": [
      " _ _ _ _ _ _ _ _ _ _\n",
      "|_|_|_|_|_|_|_|_|_|_|\n",
      "|_|_|_|_|_|_|_|_|_|_|\n",
      "|_|_|_|_|_|_|_|_|_|_|\n",
      "|_|_|_|_|_|_|_|_|_|_|\n",
      "|_|_|_|_|_|_|_|_|_|_|\n",
      "|_|_|_|_|_|_|_|_|_|_|\n",
      "|_|_|_|_|_|_|_|_|_|_|\n",
      "|_|_|_|_|_|_|_|_|_|_|\n",
      "|_|_|_|_|_|_|_|_|_|_|\n",
      "|_|_|_|_|_|_|_|_|_|_|\n"
     ]
    }
   ],
   "source": [
    "print_square(10)"
   ]
  }
 ],
 "metadata": {
  "kernelspec": {
   "display_name": "Python 3",
   "language": "python",
   "name": "python3"
  },
  "language_info": {
   "codemirror_mode": {
    "name": "ipython",
    "version": 3
   },
   "file_extension": ".py",
   "mimetype": "text/x-python",
   "name": "python",
   "nbconvert_exporter": "python",
   "pygments_lexer": "ipython3",
   "version": "3.7.1"
  },
  "varInspector": {
   "cols": {
    "lenName": 16,
    "lenType": 16,
    "lenVar": 40
   },
   "kernels_config": {
    "python": {
     "delete_cmd_postfix": "",
     "delete_cmd_prefix": "del ",
     "library": "var_list.py",
     "varRefreshCmd": "print(var_dic_list())"
    },
    "r": {
     "delete_cmd_postfix": ") ",
     "delete_cmd_prefix": "rm(",
     "library": "var_list.r",
     "varRefreshCmd": "cat(var_dic_list()) "
    }
   },
   "types_to_exclude": [
    "module",
    "function",
    "builtin_function_or_method",
    "instance",
    "_Feature"
   ],
   "window_display": false
  }
 },
 "nbformat": 4,
 "nbformat_minor": 2
}
