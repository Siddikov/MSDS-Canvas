{
 "cells": [
  {
   "cell_type": "markdown",
   "metadata": {},
   "source": [
    "#### MSDS 430 Module 4 Python Assignment "
   ]
  },
  {
   "cell_type": "raw",
   "metadata": {},
   "source": [
    "Date: 1/4/2019"
   ]
  },
  {
   "cell_type": "markdown",
   "metadata": {},
   "source": [
    "#### In this assignment you will complete the following exercises and submit your notebook (ipynb file) to Canvas. Your file should include all output, i.e. run each cell and save your file before submitting."
   ]
  },
  {
   "cell_type": "markdown",
   "metadata": {},
   "source": [
    "<font color=green> One aspect of data science is working with data from files. In this assignment we will learn to read in a text file and extract some useful information. In the process we will be creating and manipulating Python lists. Finally, we will see how data can be written to a new text file. Later in the course we'll learn more about how to display this information neatly and manipulate the data more efficiently, but for now we start by learning the basics of reading and writing text files.  </font>"
   ]
  },
  {
   "cell_type": "markdown",
   "metadata": {},
   "source": [
    "You are given a file `pitching_stats.txt` that contains a `YTD` snapshot of `MLB` pitching stats for the top ten pitchers based on ERA around mid-season in 2018. Each row in the text file is a list of seven values (`name`, `team`, `games won`, `games lost`, `ERA`, `games pitched`, `innings pitched`) separated by spaces: :\n",
    "\n",
    "`Degrom NYM 7 7 1.81 24 159.0\n",
    "Sale BOS 12 4 1.97 23 146.0\n",
    "Snell TB 13 5 2.18 22 128.0\n",
    "Scherzer WSH 15 5 2.19 25 168.2\n",
    "Bauer CLE 12 6 2.22 25 166.0\n",
    "Nola PHI 13 3 2.28 24 154.0\n",
    "Verlander HOU 11 8 2.52 26 164.1\n",
    "Kluber CLE 15 6 2.68 25 168.0\n",
    "Cole HOU 10 5 2.75 24 153.2\n",
    "Mikolas STL 12 3 2.85 24 151.1`\n",
    "\n",
    "\n",
    "In Python, there is an `open` method that takes the name of a text file in the current directory (or more generally a path to a text file in any directory on your computer) and returns what is known as a `file object`. This file object can be used to read from existing text file, create and write to a new file or append text to a pre-existing file. See https://docs.python.org/3/library/functions.html#open\n",
    "\n",
    "For example, \n",
    "```python\n",
    "fileName = open('my_file.txt',r)\n",
    "```\n",
    "\n",
    "would open a file with filename `my_file.txt` for reading (i.e. `mode = 'r'`) and returns a corresponding file object which is assigned to the variable `fileName`. \n",
    "\n",
    "If the file cannot be opened for some reason (e.g. if the file doesn't exist), then an error is generated. More specifically, an `Exception` object is created and said to be \"thrown\". "
   ]
  },
  {
   "cell_type": "code",
   "execution_count": 1,
   "metadata": {},
   "outputs": [
    {
     "ename": "FileNotFoundError",
     "evalue": "[Errno 2] No such file or directory: 'my_file.txt'",
     "output_type": "error",
     "traceback": [
      "\u001b[0;31m---------------------------------------------------------------------------\u001b[0m",
      "\u001b[0;31mFileNotFoundError\u001b[0m                         Traceback (most recent call last)",
      "\u001b[0;32m<ipython-input-1-1a26b996d4e7>\u001b[0m in \u001b[0;36m<module>\u001b[0;34m()\u001b[0m\n\u001b[0;32m----> 1\u001b[0;31m \u001b[0mfileName\u001b[0m \u001b[0;34m=\u001b[0m \u001b[0mopen\u001b[0m\u001b[0;34m(\u001b[0m\u001b[0;34m'my_file.txt'\u001b[0m\u001b[0;34m,\u001b[0m\u001b[0;34m'r'\u001b[0m\u001b[0;34m)\u001b[0m\u001b[0;34m\u001b[0m\u001b[0;34m\u001b[0m\u001b[0m\n\u001b[0m",
      "\u001b[0;31mFileNotFoundError\u001b[0m: [Errno 2] No such file or directory: 'my_file.txt'"
     ]
    }
   ],
   "source": [
    "fileName = open('my_file.txt','r')"
   ]
  },
  {
   "cell_type": "markdown",
   "metadata": {},
   "source": [
    "The FileNotFoundError (Exception object) was generated (thrown) because there is no my_file.txt in the current directory. \n",
    "\n",
    "Again, if the file exists in another directory we could specify a path to the file instead, e.g. `'/Users/jsmith/data/my_file.txt'`.\n",
    "\n",
    "Below we provide error-handling code with the `open` method that prevents the program from crashing if something goes wrong. But exceptions and error handling will be discussed in detail in a future module.\n",
    "\n",
    "First make sure that you save the provided file `pitching_stats.txt` in the same directory as this Python notebook."
   ]
  },
  {
   "cell_type": "markdown",
   "metadata": {},
   "source": [
    "**Problem 1 (2 pts.)**: Complete the program in the cell below so that a user is prompted for a file name when the cell is executed:\n",
    "\n",
    "`Enter the name of the file for reading:`\n",
    "\n",
    "If you enter the `pitching_stats.txt` (which you saved in the current directory), you should see get the following:\n",
    "\n",
    "`Enter the name of the file for reading: pitching_stats.txt\n",
    "The file was opened succesfully!`\n",
    "\n",
    "If you enter a different text file name, you will be told the file does not exist and you will be prompted again for a file name to enter:\n",
    "\n",
    "`Enter the name of the file for reading: wrong_file.txt\n",
    "Can not open the file [Errno 2] No such file or directory: 'wrong_file.txt'\n",
    "Enter the name of the file for reading:`\n",
    "\n",
    "\n",
    "The process is repeated until you enter the right filename.\n",
    "\n",
    "After you finish the problem, continue to read the markdown cells below for further instructions."
   ]
  },
  {
   "cell_type": "code",
   "execution_count": 1,
   "metadata": {},
   "outputs": [
    {
     "name": "stdout",
     "output_type": "stream",
     "text": [
      "wrong_file.txt\n",
      "Can not open the file [Errno 2] No such file or directory: 'wrong_file.txt'\n",
      "pitching_stats.txt\n",
      "The file was opened succesfully!\n"
     ]
    }
   ],
   "source": [
    "while True:\n",
    "    \n",
    "    # TO DO: \n",
    "    # Prompt the user to enter the name of a file and save the user's input to a variable\n",
    "    enter_file_name = input()\n",
    "    \n",
    "    \n",
    "    try:\n",
    "        # TO DO:\n",
    "        # Open the file with name specified by the user using the open() method \n",
    "        # Make sure to save the file object to a variable.\n",
    "        fileName = open(enter_file_name,'r')\n",
    "        \n",
    "        print(\"The file was opened succesfully!\")\n",
    "        \n",
    "        break\n",
    "    # code to \"catch\" the exception\n",
    "    except IOError as err:\n",
    "        print('Can not open the file', err)"
   ]
  },
  {
   "cell_type": "markdown",
   "metadata": {},
   "source": [
    "Now that you have completed the first problem, you are going to learn how to use the file object to get the contents of the file. In `Problem 2` specific values from each row will be obtained in order to display a human readable summary of each pitcher's data. In `Problem 3`, on the other hand, we will focus on specific fields in order to obtain \"columnized\" output instead.\n",
    "\n",
    "If `filename` is a file object corresponding to a text, you can iterate over the lines of text in the file as follows:\n",
    "```python\n",
    "for line in filename:\n",
    "   # Do something with each line...for example we can print the line\n",
    "   # print(line)\n",
    "```\n",
    "We will use the split method (defined in the String class) to break up each line of the file (which is a String object) into a list of its seven string values (`name, team, games won, games lost, ERA, games pitched, innings pitched`). We will study the String class and more of its methods in detail in a later module. \n",
    "\n",
    "To use the split method we need to first have a String object. Below we create String object called `line`. Then we call the split() method on this object in this way:\n",
    "```python\n",
    "line.split()\n",
    "```\n",
    "\n",
    "Run the cells below to see what you get..."
   ]
  },
  {
   "cell_type": "code",
   "execution_count": 2,
   "metadata": {},
   "outputs": [
    {
     "name": "stdout",
     "output_type": "stream",
     "text": [
      "['Degrom', 'NYM', '7', '7', '1.81', '24', '159.0']\n"
     ]
    }
   ],
   "source": [
    "line = 'Degrom NYM 7 7 1.81 24 159.0'\n",
    "lst = line.split()\n",
    "print(lst)"
   ]
  },
  {
   "cell_type": "markdown",
   "metadata": {},
   "source": [
    "Here are some examples showing how to access elements of the list.."
   ]
  },
  {
   "cell_type": "code",
   "execution_count": 3,
   "metadata": {},
   "outputs": [
    {
     "name": "stdout",
     "output_type": "stream",
     "text": [
      "The first element of the list is Degrom\n"
     ]
    }
   ],
   "source": [
    "print('The first element of the list is',lst[0])"
   ]
  },
  {
   "cell_type": "code",
   "execution_count": 4,
   "metadata": {},
   "outputs": [
    {
     "name": "stdout",
     "output_type": "stream",
     "text": [
      "The fifth element of the list is 1.81\n"
     ]
    }
   ],
   "source": [
    "print('The fifth element of the list is',lst[4])"
   ]
  },
  {
   "cell_type": "code",
   "execution_count": 5,
   "metadata": {},
   "outputs": [
    {
     "name": "stdout",
     "output_type": "stream",
     "text": [
      "The last element of the list is 159.0\n"
     ]
    }
   ],
   "source": [
    "print('The last element of the list is',lst[-1])"
   ]
  },
  {
   "cell_type": "markdown",
   "metadata": {},
   "source": [
    "***Problem 2 (2 pts)***: Iterate over lines in the file as demonstrated above and print the following for each line:\n",
    "\n",
    "`\" < rank > < team > 'pitcher' < name > 'has an ERA of' < ERA >\"`<br>\n",
    "\n",
    "For example, the first line printed should look like this: <br>\n",
    "\n",
    "`NYM pitcher Degrom has an ERA of 1.81`\n",
    "\n",
    "CORRECTION:\n",
    "\n",
    "Problem 2: You don't need to print \"< rank >\" as part of the output. The sample output doesn't include \"< rank >\" in it but the instructions could have been slightly misleading. \n",
    "\n",
    "Print the following line:\n",
    "`\"< team > 'pitcher' < name > 'has an ERA of' < ERA >\" `<br>\n",
    "\n",
    "Example output (same as in the notebook): <br>\n",
    "`NYM pitcher Degrom has an ERA of 1.81\n",
    "...\n",
    "STL pitcher Mikolas has an ERA of 2.85`"
   ]
  },
  {
   "cell_type": "code",
   "execution_count": 6,
   "metadata": {},
   "outputs": [
    {
     "name": "stdout",
     "output_type": "stream",
     "text": [
      "NYM pitcher Degrom has an ERA of 1.81\n",
      "BOS pitcher Sale has an ERA of 1.97\n",
      "TB pitcher Snell has an ERA of 2.18\n",
      "WSH pitcher Scherzer has an ERA of 2.19\n",
      "CLE pitcher Bauer has an ERA of 2.22\n",
      "PHI pitcher Nola has an ERA of 2.28\n",
      "HOU pitcher Verlander has an ERA of 2.52\n",
      "CLE pitcher Kluber has an ERA of 2.68\n",
      "HOU pitcher Cole has an ERA of 2.75\n",
      "STL pitcher Mikolas has an ERA of 2.85\n"
     ]
    }
   ],
   "source": [
    "bbfile = open(\"pitching_stats.txt\", \"r\")\n",
    "\n",
    "for line in bbfile:\n",
    "    \n",
    "    # TO DO\n",
    "    # Split the line into a list of strings..\n",
    "    lst = line.split()\n",
    "    \n",
    "    # TO DO\n",
    "    # Print the sentence...\n",
    "    print('{} pitcher {} has an ERA of {}'.format(lst[1], lst[0], lst[4]))\n",
    "\n",
    "# We close the file\n",
    "bbfile.close()"
   ]
  },
  {
   "cell_type": "markdown",
   "metadata": {},
   "source": [
    "Our next objective to create two lists from the data: a list of all of the pitcher's names and the corresponding list of the number of games each pitcher won. \n",
    "\n",
    "But first we open the `pitching_stats.txt` file for reading again. This time we read all the lines at once using the file object's `readlines` method. What do you get when you run the following method?"
   ]
  },
  {
   "cell_type": "code",
   "execution_count": 7,
   "metadata": {},
   "outputs": [
    {
     "name": "stdout",
     "output_type": "stream",
     "text": [
      "['Degrom NYM 7 7 1.81 24 159.0\\n', 'Sale BOS 12 4 1.97 23 146.0\\n', 'Snell TB 13 5 2.18 22 128.0\\n', 'Scherzer WSH 15 5 2.19 25 168.2\\n', 'Bauer CLE 12 6 2.22 25 166.0\\n', 'Nola PHI 13 3 2.28 24 154.0\\n', 'Verlander HOU 11 8 2.52 26 164.1\\n', 'Kluber CLE 15 6 2.68 25 168.0\\n', 'Cole HOU 10 5 2.75 24 153.2\\n', 'Mikolas STL 12 3 2.85 24 151.1\\n']\n"
     ]
    }
   ],
   "source": [
    "bbfile = open(\"pitching_stats.txt\", \"r\")\n",
    "lines = bbfile.readlines()\n",
    "print(lines)"
   ]
  },
  {
   "cell_type": "markdown",
   "metadata": {},
   "source": [
    "We iterate over `lines` in much the same way we iterated over (the file object) `bbfile`. But first let us give some examples of how the `append` list method can be used to \"grow\" a list from scratch. As usual, you want to make sure you are running each of cells in the notebook one at a time..."
   ]
  },
  {
   "cell_type": "code",
   "execution_count": 8,
   "metadata": {},
   "outputs": [
    {
     "name": "stdout",
     "output_type": "stream",
     "text": [
      "['John Doe', 25]\n"
     ]
    }
   ],
   "source": [
    "# start with an empty list\n",
    "my_list = []\n",
    "# say we have a value we would like to append to the list\n",
    "name = \"John Doe\"\n",
    "# add it to the list\n",
    "my_list.append(name)\n",
    "# here is value of a different type...\n",
    "age = 25\n",
    "# append that to my_list as well...\n",
    "my_list.append(age)\n",
    "# print the list\n",
    "print(my_list)"
   ]
  },
  {
   "cell_type": "markdown",
   "metadata": {},
   "source": [
    "**Problem 3 (4 pts.)**: Complete the code in the cell below. The program starts with two empty lists: `name` and `games_won`. It should then iterate over the `lines` list, splitting each line in turn, and then obtaining both the name of the pitcher and the corresponding games he won and adding the values to the corresponding list."
   ]
  },
  {
   "cell_type": "code",
   "execution_count": 9,
   "metadata": {},
   "outputs": [],
   "source": [
    "names = []\n",
    "games_won = []\n",
    "\n",
    "for line in lines:\n",
    "    # TO DO\n",
    "    lst = line.split()\n",
    "    names.append(lst[0])\n",
    "    games_won.append(int(lst[2]))"
   ]
  },
  {
   "cell_type": "markdown",
   "metadata": {},
   "source": [
    "Run the following two cells to check that `name` and `games_won` lists were constructed properly."
   ]
  },
  {
   "cell_type": "code",
   "execution_count": 10,
   "metadata": {},
   "outputs": [
    {
     "name": "stdout",
     "output_type": "stream",
     "text": [
      "['Degrom', 'Sale', 'Snell', 'Scherzer', 'Bauer', 'Nola', 'Verlander', 'Kluber', 'Cole', 'Mikolas']\n"
     ]
    }
   ],
   "source": [
    "print(names)"
   ]
  },
  {
   "cell_type": "code",
   "execution_count": 11,
   "metadata": {},
   "outputs": [
    {
     "name": "stdout",
     "output_type": "stream",
     "text": [
      "[7, 12, 13, 15, 12, 13, 11, 15, 10, 12]\n"
     ]
    }
   ],
   "source": [
    "print(games_won)"
   ]
  },
  {
   "cell_type": "markdown",
   "metadata": {},
   "source": [
    "Next we will introduce two list methods and ask you use them together in a program. First we have the `max` method to get the maximum value in a list."
   ]
  },
  {
   "cell_type": "code",
   "execution_count": 12,
   "metadata": {},
   "outputs": [
    {
     "data": {
      "text/plain": [
       "10"
      ]
     },
     "execution_count": 12,
     "metadata": {},
     "output_type": "execute_result"
    }
   ],
   "source": [
    "my_list = [1,2,3,10,4,5,6]\n",
    "max(my_list)"
   ]
  },
  {
   "cell_type": "markdown",
   "metadata": {},
   "source": [
    "Second, we can get the \"position\" of any value in the list using the `index` method. Note that the first position has `index` **zero** and not **one**. So it would be more accurete to think of the `index` as the `offset` as opposed to the `position`. "
   ]
  },
  {
   "cell_type": "code",
   "execution_count": 13,
   "metadata": {},
   "outputs": [
    {
     "data": {
      "text/plain": [
       "3"
      ]
     },
     "execution_count": 13,
     "metadata": {},
     "output_type": "execute_result"
    }
   ],
   "source": [
    "my_list.index(10)"
   ]
  },
  {
   "cell_type": "markdown",
   "metadata": {},
   "source": [
    "Let us double check that the value in position (offset) 3 really is 10..."
   ]
  },
  {
   "cell_type": "code",
   "execution_count": 14,
   "metadata": {},
   "outputs": [
    {
     "data": {
      "text/plain": [
       "10"
      ]
     },
     "execution_count": 14,
     "metadata": {},
     "output_type": "execute_result"
    }
   ],
   "source": [
    "my_list[3]"
   ]
  },
  {
   "cell_type": "markdown",
   "metadata": {},
   "source": [
    "***Problem 4 (6 pts.)***: Complete the program in the cell below. We are defining a funcion `print_top_pitcher` that takes two list arguments, `names` and `games_won`. The program should find the maximum value in the `games_won` list and the name of the pictcher (from the `names` list) who want that many games. Finally, the function should print the results. For example,\n",
    "\n",
    "`print_top_pitcher(names,games_won)`\n",
    "\n",
    "should return\n",
    "\n",
    "`Scherzer won the most games: 15`"
   ]
  },
  {
   "cell_type": "code",
   "execution_count": 15,
   "metadata": {},
   "outputs": [],
   "source": [
    "def print_top_pitcher(names_list,games_won_list):\n",
    "    # TO DO\n",
    "    # Find the name of the pitcher who won the most games \n",
    "    top_pitcher = names[games_won.index(max(games_won))]\n",
    "    # and the number of game he pitched. Save these values to the variables\n",
    "    max_games = max(games_won)\n",
    "    # top_pitcher and max_games, respectively. The given print statement\n",
    "    # should display \n",
    "    # Scherzer won the most games: 15\n",
    "    print('{} won the most games: {}'.format(top_pitcher, max_games))\n"
   ]
  },
  {
   "cell_type": "code",
   "execution_count": 16,
   "metadata": {},
   "outputs": [
    {
     "name": "stdout",
     "output_type": "stream",
     "text": [
      "Scherzer won the most games: 15\n"
     ]
    }
   ],
   "source": [
    "# Let us test the print_top_pitcher method\n",
    "print_top_pitcher(names,games_won)"
   ]
  },
  {
   "cell_type": "markdown",
   "metadata": {},
   "source": [
    "Finally, we will redo `Problem 2` so that the output is written to a file instead of printed in a Jupyter notebook cell. The following line creates an empty file in the current directory and opens it for writing (`mode='w'`):\n",
    "```python\n",
    "outfile = open(\"output.txt\", \"w\")\n",
    "```\n",
    "Here `outfile` is a file object that can be used to write to the file:\n",
    "```python\n",
    "outfile.write(\"This is the first line written to the output file\")\n",
    "```\n",
    "\n",
    "If we wish to append lines of text to an existing text file then we should open it for appending it instead (`mode='a'`):\n",
    "```python\n",
    "outfile = open(\"output.txt\", \"a\")\n",
    "```"
   ]
  },
  {
   "cell_type": "markdown",
   "metadata": {},
   "source": [
    "**Problem (4 pts)**: Repeat `Problem 2` but instead of printing the output to a Jupyter notebook cells write the output, line by line, to a file with filename `output.txt`. Also add code to count the number of lines in the file. Finally, open the file once again, this time to append a string specifying the number of pitchers in the file. A possible string that you can append:\n",
    "\n",
    "`There are 10 pitchers in the file.`\n",
    "\n",
    "Again, don't write this string as given. You need to first find (using Python) the number of rows in the file and then use that information to construct the string that you will be appending to (end of) the file."
   ]
  },
  {
   "cell_type": "code",
   "execution_count": 20,
   "metadata": {},
   "outputs": [],
   "source": [
    "# TO DO\n",
    "# Open the file for writing.\n",
    "outfile = open(\"output.txt\", \"w\")\n",
    "countLines = len(lines)\n",
    "\n",
    "for line in lines:\n",
    "    \n",
    "    # TO DO\n",
    "    # Split the line into a list of strings..\n",
    "    lst = line.split()\n",
    "    \n",
    "    \n",
    "    # TO DO\n",
    "    # Write the line to a file...\n",
    "    # outfile.write('\\n' + '{} pitcher {} has an ERA of {}'.format(lst[1], lst[0], lst[4]))\n",
    "    outfile.write('\\n' + '{} pitcher has an ERA of {}'.format(lst[1], lst[4]))\n",
    "    \n",
    "\n",
    "#TO DO:\n",
    "# Close the file.\n",
    "\n",
    "outfile.close()\n",
    "\n",
    "#TO DO:\n",
    "# Open the file for appending, construct the string you are going to write to the file\n",
    "outfile = open(\"output.txt\", \"a\")\n",
    "\n",
    "# and then write the line to the end of the file.\n",
    "outfile.write('\\n' + 'There are {} pitchers in the file'.format(countLines))\n",
    "\n",
    "# Don't forget to close the file.\n",
    "outfile.close()"
   ]
  },
  {
   "cell_type": "markdown",
   "metadata": {},
   "source": [
    "Though you can easily view the contents of the output text file you created using your favorite text editor there are ways of doing this using Python. Here we are going to use the shell command appropriate to your operating system. Note to access the shell commands from within the Jupyter notebook we need to prefix them with the `!` character."
   ]
  },
  {
   "cell_type": "code",
   "execution_count": 21,
   "metadata": {},
   "outputs": [
    {
     "name": "stdout",
     "output_type": "stream",
     "text": [
      "\n",
      "NYM pitcher has an ERA of 1.81\n",
      "BOS pitcher has an ERA of 1.97\n",
      "TB pitcher has an ERA of 2.18\n",
      "WSH pitcher has an ERA of 2.19\n",
      "CLE pitcher has an ERA of 2.22\n",
      "PHI pitcher has an ERA of 2.28\n",
      "HOU pitcher has an ERA of 2.52\n",
      "CLE pitcher has an ERA of 2.68\n",
      "HOU pitcher has an ERA of 2.75\n",
      "STL pitcher has an ERA of 2.85\n",
      "There are 10 pitchers in the file\n"
     ]
    }
   ],
   "source": [
    "import platform\n",
    "\n",
    "if (platform.system() == 'Windows'):\n",
    "    !type output.txt\n",
    "else:        \n",
    "    !cat output.txt"
   ]
  }
 ],
 "metadata": {
  "kernelspec": {
   "display_name": "Python 3",
   "language": "python",
   "name": "python3"
  },
  "language_info": {
   "codemirror_mode": {
    "name": "ipython",
    "version": 3
   },
   "file_extension": ".py",
   "mimetype": "text/x-python",
   "name": "python",
   "nbconvert_exporter": "python",
   "pygments_lexer": "ipython3",
   "version": "3.7.1"
  },
  "varInspector": {
   "cols": {
    "lenName": 16,
    "lenType": 16,
    "lenVar": 40
   },
   "kernels_config": {
    "python": {
     "delete_cmd_postfix": "",
     "delete_cmd_prefix": "del ",
     "library": "var_list.py",
     "varRefreshCmd": "print(var_dic_list())"
    },
    "r": {
     "delete_cmd_postfix": ") ",
     "delete_cmd_prefix": "rm(",
     "library": "var_list.r",
     "varRefreshCmd": "cat(var_dic_list()) "
    }
   },
   "types_to_exclude": [
    "module",
    "function",
    "builtin_function_or_method",
    "instance",
    "_Feature"
   ],
   "window_display": false
  }
 },
 "nbformat": 4,
 "nbformat_minor": 2
}
