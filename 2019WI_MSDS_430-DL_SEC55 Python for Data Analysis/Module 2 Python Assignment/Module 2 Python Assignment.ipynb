{
 "cells": [
  {
   "cell_type": "markdown",
   "metadata": {},
   "source": [
    "# MSDS 430 Module 2 Python Assignment"
   ]
  },
  {
   "cell_type": "markdown",
   "metadata": {},
   "source": [
    "#### In this assignment you will complete the following exercises and submit your notebook (ipynb file) to Canvas. Your file should include all output, i.e. run each cell and save your file before submitting."
   ]
  },
  {
   "cell_type": "markdown",
   "metadata": {},
   "source": [
    "<font color=green> This week we are starting to learn how to write short programs in Python beyond \"Hello World!\" We're learning about different data types such as integers, floats, strings, and Boolean types. Each of these data types serves different purposes. In this assignment, we start working with these data types and get our feet wet with conditional statements. Conditionals are quite useful in programming and we will work with them from here on out. We will get some good practice with conditional statements in this assignment.  </font>"
   ]
  },
  {
   "cell_type": "markdown",
   "metadata": {},
   "source": [
    "Problem 1 (2 pts.): Convert the sum of 6.5 and 1.3 to both an integer and a string."
   ]
  },
  {
   "cell_type": "code",
   "execution_count": 1,
   "metadata": {},
   "outputs": [
    {
     "name": "stdout",
     "output_type": "stream",
     "text": [
      "7\n"
     ]
    }
   ],
   "source": [
    "a = 6.5\n",
    "b = 1.3\n",
    "my_integer = int(a + b)\n",
    "print(my_integer)"
   ]
  },
  {
   "cell_type": "code",
   "execution_count": 2,
   "metadata": {},
   "outputs": [
    {
     "name": "stdout",
     "output_type": "stream",
     "text": [
      "7.8\n"
     ]
    }
   ],
   "source": [
    "my_string = str(a + b)\n",
    "print(my_string)"
   ]
  },
  {
   "cell_type": "markdown",
   "metadata": {},
   "source": [
    "Problem 2 (2 pts.): Use **all five** mathematical operators (`+` `-` `*` `/` `**`) in a **single expression** to produce the number 3."
   ]
  },
  {
   "cell_type": "code",
   "execution_count": 3,
   "metadata": {},
   "outputs": [
    {
     "data": {
      "text/plain": [
       "3.0"
      ]
     },
     "execution_count": 3,
     "metadata": {},
     "output_type": "execute_result"
    }
   ],
   "source": [
    "5+4-54/3**2"
   ]
  },
  {
   "cell_type": "markdown",
   "metadata": {},
   "source": [
    "Problem 3 (4 pts.): Write a program that asks a user for two numbers, then prints two sentences displaying the sum and product of those numbers,respectively. More specifically, the program should display the prompt `Enter a number: ` and then wait for the user's input. After the user enters his/her input followed by pressing the `enter` key, the program prompts the user to enter the second number in a similar fashion. <br>  <br>Here's a sample of what this should look like to the user:\n",
    "\n",
    "`Enter any number: `5<br>\n",
    "`Enter a second number: `123 <br> \n",
    "`The sum of 5 and 123 is 128.`<br>\n",
    "`The product of 5 and 123 is 615.`"
   ]
  },
  {
   "cell_type": "code",
   "execution_count": 4,
   "metadata": {},
   "outputs": [
    {
     "name": "stdout",
     "output_type": "stream",
     "text": [
      "Enter any number:\n",
      "5\n",
      "Enter a second number:\n",
      "123\n",
      "The sum of 5 and 123 is 128\n",
      "The product of 5 and 123 is 615\n"
     ]
    }
   ],
   "source": [
    "print(\"Enter any number:\")\n",
    "x = int(input())\n",
    "print(\"Enter a second number:\")\n",
    "y = int(input())\n",
    "f1 = x + y\n",
    "f2 = x * y\n",
    "print(\"The sum of {} and {} is {}\".format(x,y,f1))\n",
    "print(\"The product of {} and {} is {}\".format(x,y,f2))"
   ]
  },
  {
   "cell_type": "markdown",
   "metadata": {},
   "source": [
    "Problem 4 (2 pts.): Write a program that asks a user to enter any number then returns whether the number is a multiple of 5 or not. Here's a sample of what this should look like to the user:\n",
    "\n",
    "`Enter any number: `319<br>\n",
    "`319 is not a multiple of 5.`"
   ]
  },
  {
   "cell_type": "code",
   "execution_count": 5,
   "metadata": {},
   "outputs": [
    {
     "name": "stdout",
     "output_type": "stream",
     "text": [
      "Enter any whole number:\n",
      "319\n",
      "319 is not a multiple of 5.\n"
     ]
    }
   ],
   "source": [
    "print(\"Enter any whole number:\")\n",
    "z = int(input())\n",
    "f3 = z % 5\n",
    "if f3 == 0: \n",
    "    print(\"{} is a multiple of 5.\".format(z))\n",
    "else:\n",
    "    print(\"{} is not a multiple of 5.\".format(z))"
   ]
  },
  {
   "cell_type": "markdown",
   "metadata": {},
   "source": [
    "Problem 5 (2 pts.): Write a program to assign Boolean values to variables `P` and `Q` and evaluate `not P or Q`. Choose the appropriate truth values for `P` and `Q` so that the expression evaluates to `True`."
   ]
  },
  {
   "cell_type": "code",
   "execution_count": 6,
   "metadata": {},
   "outputs": [
    {
     "name": "stdout",
     "output_type": "stream",
     "text": [
      "expression is false\n"
     ]
    }
   ],
   "source": [
    "P = True\n",
    "Q = False\n",
    "\n",
    "# print(not P or Q)\n",
    "\n",
    "if not P or Q:\n",
    "    print('expression is true')\n",
    "else:\n",
    "    print('expression is false')"
   ]
  },
  {
   "cell_type": "markdown",
   "metadata": {},
   "source": [
    "Problem 6 (6 pts.): Jake is looking for a job but has some conditions. He would love a job in Hawaii and would accept it if it pays more than 40,000 per year. He does not like New York but would take a job if it pays more than 100,000 per year. He would work anywhere else if it pays more than 60,000. Write a program that prompts the user to enter two input values, `location` and `pay`, and returns \n",
    "\n",
    "(1) \"I'll take it!\" if the user entered Hawaii and more than 40000, New York and more than 100000, or anywhere else with pay more than 60000, for the `location` and `pay`, respectively, or  <br> \n",
    "(2) \"No way.\" if the user enters Hawaii and less than 40000 or New York and less than 100000, for the `location` and `pay`, respectively, or <br> \n",
    "(3) \"No thanks, I can find something better.\" if the `location` is anywhere else and the `pay` is less than 60000."
   ]
  },
  {
   "cell_type": "code",
   "execution_count": 7,
   "metadata": {},
   "outputs": [
    {
     "name": "stdout",
     "output_type": "stream",
     "text": [
      "Please enter desired work location:\n",
      "Seattle\n",
      "Please enter desired salary:\n",
      "65000\n",
      "I'll take it!\n"
     ]
    }
   ],
   "source": [
    "print(\"Please enter desired work location:\")\n",
    "location = str(input())\n",
    "print(\"Please enter desired salary:\")\n",
    "pay = int(input())\n",
    "\n",
    "if (location == \"Hawaii\" and pay >= 40000) or (location == \"New York\" and pay >= 100000) or pay >= 60000:\n",
    "    print(\"I'll take it!\")\n",
    "elif (location == \"Hawaii\" and pay < 40000) or (location == \"New York\" and pay < 100000):\n",
    "    print(\"No way.\")\n",
    "else:\n",
    "    print(\"No thanks, I can find something better.\")\n"
   ]
  }
 ],
 "metadata": {
  "kernelspec": {
   "display_name": "Python 3",
   "language": "python",
   "name": "python3"
  },
  "language_info": {
   "codemirror_mode": {
    "name": "ipython",
    "version": 3
   },
   "file_extension": ".py",
   "mimetype": "text/x-python",
   "name": "python",
   "nbconvert_exporter": "python",
   "pygments_lexer": "ipython3",
   "version": "3.7.1"
  }
 },
 "nbformat": 4,
 "nbformat_minor": 2
}
