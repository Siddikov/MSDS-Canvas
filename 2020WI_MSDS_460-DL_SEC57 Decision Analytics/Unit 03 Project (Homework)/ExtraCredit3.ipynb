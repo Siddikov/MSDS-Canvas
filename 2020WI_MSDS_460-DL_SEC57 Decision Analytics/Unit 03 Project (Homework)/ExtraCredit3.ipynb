{
 "cells": [
  {
   "cell_type": "code",
   "execution_count": 1,
   "metadata": {},
   "outputs": [],
   "source": [
    "# I'm looking for 25 bonus points\n",
    "# Created by Alisher Siddikov\n",
    "\n",
    "import numpy as np\n",
    "from math import sqrt\n",
    "from scipy.optimize import minimize"
   ]
  },
  {
   "cell_type": "code",
   "execution_count": 2,
   "metadata": {},
   "outputs": [],
   "source": [
    "# problem 1 - Fertilizer\n",
    "\n",
    "## Objective: 4x1 + 2x2 - 0.5x1^2 - 0.25x2^2\n",
    "\n",
    "## Constraints:\n",
    "##8,000 + 5,000 <= 40,000"
   ]
  },
  {
   "cell_type": "code",
   "execution_count": 3,
   "metadata": {},
   "outputs": [
    {
     "data": {
      "text/plain": [
       "11.371574999999998"
      ]
     },
     "execution_count": 3,
     "metadata": {},
     "output_type": "execute_result"
    }
   ],
   "source": [
    "def fun(x, sign = 1.0):\n",
    "    return sign*(4*x[0] + 2*x[1] - 0.5*x[0]**2 - 0.25*x[1]**2)\n",
    "\n",
    "### test\n",
    "x = [3.16, 2.95]\n",
    "fun(x)"
   ]
  },
  {
   "cell_type": "code",
   "execution_count": 4,
   "metadata": {},
   "outputs": [],
   "source": [
    "cons = ({'type': 'ineq', 'fun': lambda x: 40000 - (8000*x[0] + 5000*x[1])})\n",
    "\n",
    "bnds = ((0, 40000), (0, 40000))"
   ]
  },
  {
   "cell_type": "code",
   "execution_count": 5,
   "metadata": {},
   "outputs": [
    {
     "data": {
      "text/plain": [
       "     fun: -11.36842105263158\n",
       "     jac: array([-0.84210539, -0.52631581])\n",
       " message: 'Optimization terminated successfully.'\n",
       "    nfev: 16\n",
       "     nit: 4\n",
       "    njev: 4\n",
       "  status: 0\n",
       " success: True\n",
       "       x: array([3.15789472, 2.94736845])"
      ]
     },
     "execution_count": 5,
     "metadata": {},
     "output_type": "execute_result"
    }
   ],
   "source": [
    "x = [2, 2] #initial values\n",
    "res = minimize(fun,x, args=(-1.0,),method='SLSQP',\\\n",
    "                    bounds=bnds,constraints=cons)\n",
    "res"
   ]
  },
  {
   "cell_type": "code",
   "execution_count": 6,
   "metadata": {},
   "outputs": [
    {
     "name": "stdout",
     "output_type": "stream",
     "text": [
      "objective =  -11.3684\n",
      "x1 =  3.1579\n",
      "x2 =  2.9474\n"
     ]
    }
   ],
   "source": [
    "print('objective = ', round(res.fun, 4))\n",
    "\n",
    "print('x1 = ', round(res.x[0],4))\n",
    "print('x2 = ', round(res.x[1],4))"
   ]
  },
  {
   "cell_type": "code",
   "execution_count": 7,
   "metadata": {},
   "outputs": [],
   "source": [
    "# problem 2 - Fencing\n",
    "\n",
    "## a side of triangle length\n",
    "## b side of triangle length\n",
    "## c side of triangle length\n",
    "\n",
    "## Objective: s = x*0.5; SQRT(s*(s-a)*(s-b)*(s-c))\n",
    "\n",
    "## Constraints:\n",
    "## a + b + c <= 60\n",
    "# -a + b + c <= 60\n",
    "## a - b + c <= 60\n",
    "## a + b - c <= 60"
   ]
  },
  {
   "cell_type": "code",
   "execution_count": 8,
   "metadata": {},
   "outputs": [
    {
     "data": {
      "text/plain": [
       "173.20508075688772"
      ]
     },
     "execution_count": 8,
     "metadata": {},
     "output_type": "execute_result"
    }
   ],
   "source": [
    "def fun(x, sign = 1.0):\n",
    "    s = np.sum(x) * 0.5\n",
    "    return sign*(sqrt(s * (s - x[0]) * (s - x[1]) * (s - x[2])))\n",
    "\n",
    "### test\n",
    "x = [20.0, 20.0, 20.0]\n",
    "fun(x)"
   ]
  },
  {
   "cell_type": "code",
   "execution_count": 9,
   "metadata": {},
   "outputs": [],
   "source": [
    "cons = ({'type': 'ineq', 'fun': lambda x: 60 -( x[0] + x[1] + x[2])},\n",
    "        {'type': 'ineq', 'fun': lambda x: 60 -(-x[0] + x[1] + x[2])},\n",
    "        {'type': 'ineq', 'fun': lambda x: 60 -( x[0] - x[1] + x[2])},\n",
    "        {'type': 'ineq', 'fun': lambda x: 60 -( x[0] + x[1] - x[2])})        \n",
    "\n",
    "bnds = ((0, 60), (0, 60), (0, 60))"
   ]
  },
  {
   "cell_type": "code",
   "execution_count": 10,
   "metadata": {},
   "outputs": [
    {
     "data": {
      "text/plain": [
       "     fun: -173.2050807569032\n",
       "     jac: array([-5.77350235, -5.77350426, -5.77350426])\n",
       " message: 'Optimization terminated successfully.'\n",
       "    nfev: 20\n",
       "     nit: 4\n",
       "    njev: 4\n",
       "  status: 0\n",
       " success: True\n",
       "       x: array([20.        , 20.        , 19.99999999])"
      ]
     },
     "execution_count": 10,
     "metadata": {},
     "output_type": "execute_result"
    }
   ],
   "source": [
    "x = [2, 2, 2] #initial values\n",
    "res = minimize(fun,x, args=(-1.0,),method='SLSQP',\\\n",
    "                    bounds=bnds,constraints=cons)\n",
    "res"
   ]
  },
  {
   "cell_type": "code",
   "execution_count": 11,
   "metadata": {},
   "outputs": [
    {
     "name": "stdout",
     "output_type": "stream",
     "text": [
      "objective =  -173.2051\n",
      "a =  20.0\n",
      "b =  20.0\n",
      "c =  20.0\n",
      "perimeter =  60.0\n"
     ]
    }
   ],
   "source": [
    "print('objective = ', round(res.fun, 4))\n",
    "\n",
    "print('a = ', round(res.x[0],4))\n",
    "print('b = ', round(res.x[1],4))\n",
    "print('c = ', round(res.x[2],4))\n",
    "print('perimeter = ', round(np.sum(res.x),4))"
   ]
  }
 ],
 "metadata": {
  "kernelspec": {
   "display_name": "Python 3",
   "language": "python",
   "name": "python3"
  },
  "language_info": {
   "codemirror_mode": {
    "name": "ipython",
    "version": 3
   },
   "file_extension": ".py",
   "mimetype": "text/x-python",
   "name": "python",
   "nbconvert_exporter": "python",
   "pygments_lexer": "ipython3",
   "version": "3.6.7"
  }
 },
 "nbformat": 4,
 "nbformat_minor": 2
}
