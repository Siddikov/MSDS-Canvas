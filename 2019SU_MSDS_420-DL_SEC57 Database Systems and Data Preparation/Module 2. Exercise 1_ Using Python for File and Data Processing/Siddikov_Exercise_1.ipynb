{
 "cells": [
  {
   "cell_type": "markdown",
   "metadata": {},
   "source": [
    "# Deliverables:\n",
    "\n",
    "- Submit two files that have been named in the following manner: YourLastName_Exercise_1  and that includes the following files:\n",
    "\n",
    "    - Your PDF document that includes your source code and output.\n",
    "    - Your ipynb script that includes your source code and output.\n",
    "\n",
    "# Objectives:\n",
    "\n",
    "In this exercise, you will:\n",
    "\n",
    " - Use Jupyter notebook to run ipynb script\n",
    " - Experiment with file processing (reading and writing files in different formats)\n",
    " - Use different data types to store and process data\n",
    "\n",
    "\n",
    "\n",
    "Formatting Python Code\n",
    "When programming in Python, refer to Kenneth Reitz’ PEP 8: The Style Guide for Python Code:\n",
    "http://pep8.org/ (Links to an external site.)Links to an external site.\n",
    "There is the Google style guide for Python at\n",
    "https://google.github.io/styleguide/pyguide.html (Links to an external site.)Links to an external site.\n",
    "Comment often and in detail.\n"
   ]
  },
  {
   "cell_type": "raw",
   "metadata": {},
   "source": [
    "There are many different kinds of data to be managed and analyzed today, and there are many ways to do it using Python. Being able to manage and modify data isn't useful unless you can also get data into Python, and save your results from it.   Beginning with this session we're going to review techniques for input and output from Python starting with the simplest file formats and some basic Python tools.  We'll also take a first look at the pandas package.  Pandas has become very popular amongst “Pythonic” data scientists and is being used at the largest of the big data firms.  In the sessions that follow we'll consider more complicated file types and data “munging” tools and techniques."
   ]
  },
  {
   "cell_type": "raw",
   "metadata": {},
   "source": [
    "So, let's start with flat files.  A flat file is just a file that's, well, flat.  It's typically a string of characters that may include end of line markers like a newline or carriage return code.  Let's write a simple flat file out to disk by entering the following command:"
   ]
  },
  {
   "cell_type": "code",
   "execution_count": 10,
   "metadata": {},
   "outputs": [],
   "source": [
    "### https://www.dataquest.io/blog/jupyter-notebook-tips-tricks-shortcuts/\n",
    "### Execute the code line by line in jupyter-notebook\n",
    "from IPython.core.interactiveshell import InteractiveShell\n",
    "InteractiveShell.ast_node_interactivity = \"all\""
   ]
  },
  {
   "cell_type": "code",
   "execution_count": 5,
   "metadata": {},
   "outputs": [
    {
     "data": {
      "text/plain": [
       "<_io.TextIOWrapper name='myflatfile.txt' mode='w' encoding='cp1252'>"
      ]
     },
     "execution_count": 5,
     "metadata": {},
     "output_type": "execute_result"
    }
   ],
   "source": [
    "outfile = open('myflatfile.txt','w')  # open to write to a text file"
   ]
  },
  {
   "cell_type": "raw",
   "metadata": {},
   "source": [
    "Note: “In [1]:” represents the command prompt in your IPython session.  Depending on what you've been doing in a session, the digit or digits you see in it will vary.  But you knew that, right?"
   ]
  },
  {
   "cell_type": "code",
   "execution_count": 2,
   "metadata": {},
   "outputs": [
    {
     "data": {
      "text/plain": [
       "<_io.TextIOWrapper name='myflatfile.txt' mode='w' encoding='cp1252'>"
      ]
     },
     "execution_count": 2,
     "metadata": {},
     "output_type": "execute_result"
    }
   ],
   "source": [
    "outfile # outfile is an open file 'object' in write mode.  By default it's a text, not binary, file"
   ]
  },
  {
   "cell_type": "code",
   "execution_count": 3,
   "metadata": {},
   "outputs": [
    {
     "data": {
      "text/plain": [
       "_io.TextIOWrapper"
      ]
     },
     "execution_count": 3,
     "metadata": {},
     "output_type": "execute_result"
    }
   ],
   "source": [
    "type(outfile)"
   ]
  },
  {
   "cell_type": "raw",
   "metadata": {},
   "source": [
    "Pardon the slight digression, above.  It's purpose was to show what kind of Python 'object' outfile is.  (Everything in Python is an object, right?)  the .txt file name extension is optional.  Now, let's create a text string and then write it to outfile:"
   ]
  },
  {
   "cell_type": "code",
   "execution_count": 4,
   "metadata": {},
   "outputs": [],
   "source": [
    "iLikeButter='''Slather me toast with a bargefull of butter, and crown it with a bucket of Pythonberry jam.'''"
   ]
  },
  {
   "cell_type": "raw",
   "metadata": {},
   "source": [
    "This is obviously a quote from a high cholesterol data science pirate.  How many characters are in this string?  Try the function len(iLikeButter)."
   ]
  },
  {
   "cell_type": "code",
   "execution_count": 5,
   "metadata": {},
   "outputs": [
    {
     "data": {
      "text/plain": [
       "91"
      ]
     },
     "execution_count": 5,
     "metadata": {},
     "output_type": "execute_result"
    }
   ],
   "source": [
    "len(iLikeButter)"
   ]
  },
  {
   "cell_type": "raw",
   "metadata": {},
   "source": [
    "Write the string to outfile and then close outfile:"
   ]
  },
  {
   "cell_type": "code",
   "execution_count": 6,
   "metadata": {},
   "outputs": [
    {
     "data": {
      "text/plain": [
       "91"
      ]
     },
     "execution_count": 6,
     "metadata": {},
     "output_type": "execute_result"
    }
   ],
   "source": [
    "outfile.write(iLikeButter)"
   ]
  },
  {
   "cell_type": "code",
   "execution_count": 7,
   "metadata": {},
   "outputs": [],
   "source": [
    "outfile.close()\t\t# it's good practice to close whatever you open"
   ]
  },
  {
   "cell_type": "code",
   "execution_count": 8,
   "metadata": {},
   "outputs": [
    {
     "data": {
      "text/plain": [
       "'C:\\\\Users\\\\asidd\\\\Desktop\\\\MSDS\\\\420 Database Systems\\\\Lecture 2\\\\Exercise 1 Files ver c\\\\Exercise 1 Files ver c'"
      ]
     },
     "execution_count": 8,
     "metadata": {},
     "output_type": "execute_result"
    }
   ],
   "source": [
    "import os\n",
    "os.getcwd()"
   ]
  },
  {
   "cell_type": "raw",
   "metadata": {},
   "source": [
    "Let's read your file back in:"
   ]
  },
  {
   "cell_type": "code",
   "execution_count": 11,
   "metadata": {},
   "outputs": [
    {
     "data": {
      "text/plain": [
       "'Slather me toast with a bargefull of butter, and crown it with a bucket of Pythonberry jam.'"
      ]
     },
     "execution_count": 11,
     "metadata": {},
     "output_type": "execute_result"
    },
    {
     "data": {
      "text/plain": [
       "str"
      ]
     },
     "execution_count": 11,
     "metadata": {},
     "output_type": "execute_result"
    }
   ],
   "source": [
    "infile=open('myflatfile.txt','r')\t#read as a text file. For a binary, you'd use 'rb'\n",
    "doYouWantButter=infile.read()\t#reads the file contents into a string variable\n",
    "doYouWantButter\t\t\t#this should give you he iLikeButter string value\n",
    "type(doYouWantButter)\t\t# this should give you “str”"
   ]
  },
  {
   "cell_type": "raw",
   "metadata": {},
   "source": [
    "Next, let's read a text file with more than one line.  The text file louielouie.txt has been provided to you. Pop it into the default directory for your session, the directory you identified before.  Then, open it for reading:"
   ]
  },
  {
   "cell_type": "code",
   "execution_count": 12,
   "metadata": {},
   "outputs": [],
   "source": [
    "kingsMenLouie=open('louielouie.txt','r')\t\t#'r' since this is a text file."
   ]
  },
  {
   "cell_type": "code",
   "execution_count": 13,
   "metadata": {},
   "outputs": [],
   "source": [
    "louielouie=kingsMenLouie.read() \t# take a look at louielouie by typing its name"
   ]
  },
  {
   "cell_type": "raw",
   "metadata": {},
   "source": [
    "And, then you could split the lines in louielouie into a list of lines as strings:"
   ]
  },
  {
   "cell_type": "code",
   "execution_count": 14,
   "metadata": {},
   "outputs": [],
   "source": [
    "louielist=louielouie.split()\t\t# lists are your Python Friend. (One of them, at least)"
   ]
  },
  {
   "cell_type": "raw",
   "metadata": {},
   "source": [
    "You could also read this file line by line with readline().  For example, to get the file contents into louie a string variable (and assuming that the file has been closed and opened again after the foregoing):"
   ]
  },
  {
   "cell_type": "code",
   "execution_count": 15,
   "metadata": {},
   "outputs": [],
   "source": [
    "louie=\"\"\t# string var where we're going to put the lines from the file"
   ]
  },
  {
   "cell_type": "code",
   "execution_count": 16,
   "metadata": {},
   "outputs": [],
   "source": [
    "while True:\n",
    "    line=kingsMenLouie.readline()\n",
    "    if not line:\n",
    "        break\n",
    "    louie+=line\n"
   ]
  },
  {
   "cell_type": "raw",
   "metadata": {},
   "source": [
    "Give the above code a try to see what you get.  Are louie and louielouie different?  Try the command louie==louielouie.  \n",
    "\n",
    "Python usually does a good job closing files that have been opened, but it's good practice to do so explicitly whenever possible.  This is expecially true when you are writing data out to a  file, as explicitly closing a file written to forces any remaining write operation to finish.  Did you close all the files you opened, above?\n",
    "\n",
    "A simple way to close a file you've written to is as follows.  Suppose you want to write the character string iLikeButter to a file called greaseitup.txt in your current directory.  If you do:\n"
   ]
  },
  {
   "cell_type": "code",
   "execution_count": 19,
   "metadata": {},
   "outputs": [
    {
     "data": {
      "text/plain": [
       "False"
      ]
     },
     "execution_count": 19,
     "metadata": {},
     "output_type": "execute_result"
    }
   ],
   "source": [
    "louie==louielouie"
   ]
  },
  {
   "cell_type": "code",
   "execution_count": 15,
   "metadata": {},
   "outputs": [],
   "source": [
    "with open('greaseitup.txt','wt') as butterOut: \n",
    "    butterOut.write(iLikeButter)\n"
   ]
  },
  {
   "cell_type": "raw",
   "metadata": {},
   "source": [
    "the file will be closed automatically for you when your write operation is completed.  Note the 'wt' in the open statement.  't' is for text, but it's optional.  if you include a 'b' instead, you'll have a binary file instead of a text file.\n",
    "\n",
    "The procedures for reading and writing binary files using open, .read, etc. are for the most part the same as for text files, and so we're not going to spend time here on binary file input and output.  We're shortly going to move on to reading and writing csv files, but before that let's take a look at the classic method for “serializing” (storing with permanency) python objects called pickling.  \n"
   ]
  },
  {
   "cell_type": "raw",
   "metadata": {},
   "source": [
    "A pickle file includes one or more Python objects that can be read back into Python that has a Python-specific, environment independent format.   "
   ]
  },
  {
   "cell_type": "code",
   "execution_count": 20,
   "metadata": {},
   "outputs": [],
   "source": [
    "import pickle"
   ]
  },
  {
   "cell_type": "raw",
   "metadata": {},
   "source": [
    "Now let's pickle our louielist from above in a file in the current working directory."
   ]
  },
  {
   "cell_type": "code",
   "execution_count": 21,
   "metadata": {},
   "outputs": [],
   "source": [
    "pickle.dump(louielist,open('louielist.p','wb'))"
   ]
  },
  {
   "cell_type": "raw",
   "metadata": {},
   "source": [
    "The above writes a binary pickle file.  You can read the file back into Python like:"
   ]
  },
  {
   "cell_type": "code",
   "execution_count": 22,
   "metadata": {},
   "outputs": [],
   "source": [
    "louielsBack=pickle.load(open('louielist.p','rb'))"
   ]
  },
  {
   "cell_type": "raw",
   "metadata": {},
   "source": [
    "Did you get louielist back unchanged?  Try louielist == louielsBack from the command prompt.\n",
    "\n",
    "We're going to move ahead to consider csv files, but to do so we're going to make use of the pandas package.  So let's import pandas first, and then look at a simple example of a very useful panda object, the DataFrame."
   ]
  },
  {
   "cell_type": "code",
   "execution_count": 23,
   "metadata": {},
   "outputs": [],
   "source": [
    "import pandas as pd\t# panda's nickname is pd\n",
    "\n",
    "import numpy as np\t# numpy as np\n",
    "\n",
    "from pandas import DataFrame, Series\t    # for convenience"
   ]
  },
  {
   "cell_type": "raw",
   "metadata": {},
   "source": [
    "My guess is that you have used the numpy package before in your work or in a previous course.   DataFrame and Series are very handy pandas data structures that can do yeoman work for you in your data management efforts.\n",
    "\n",
    "By way of introduction, let's first read a little pickled pandas DataFrame.  \n"
   ]
  },
  {
   "cell_type": "raw",
   "metadata": {},
   "source": [
    "A pandas DataFrame is a table-like data structure with columns that can be of different data types, and that has both row and column indices. \n",
    "\n",
    "A Series is like one column of a DataFrame. It's a kind of vector that has an associated index.  A DataFrame can be thought of as a set of Series in the columns that share a single index, the row index.\n"
   ]
  },
  {
   "cell_type": "raw",
   "metadata": {},
   "source": [
    "\n",
    "DataFrames and Series have many useful attributes and features, some of which we'll explore in upcoming exercises.  But now let's try reading a less trivial csv file into a DataFrame.  The file is xyzcust10.csv, and it should be available to you on Canvas.  Take a look at it with your favorite text editor.  Then, put it in a place you can find it from Canvas, and input it into a DataFrame:\n"
   ]
  },
  {
   "cell_type": "code",
   "execution_count": 24,
   "metadata": {},
   "outputs": [],
   "source": [
    "xyzcust10=pd.read_csv('xyzcust10.csv')"
   ]
  },
  {
   "cell_type": "raw",
   "metadata": {},
   "source": [
    "The file has 10 variables in it.  The rows, or records, are XYZ customers.  How many records are in xyzcust10?\n",
    "\n",
    "What types of variables are in the columns of xyzcust10? To find out:\n"
   ]
  },
  {
   "cell_type": "code",
   "execution_count": 26,
   "metadata": {},
   "outputs": [
    {
     "data": {
      "text/plain": [
       "ACCTNO                    object\n",
       "ZIP                        int64\n",
       "ZIP4                       int64\n",
       "LTD_SALES                float64\n",
       "LTD_TRANSACTIONS           int64\n",
       "YTD_SALES_2009           float64\n",
       "YTD_TRANSACTIONS_2009      int64\n",
       "CHANNEL_ACQUISITION       object\n",
       "BUYER_STATUS              object\n",
       "ZIP9_Supercode             int64\n",
       "ZIP9_SUPERCODE             int64\n",
       "dtype: object"
      ]
     },
     "execution_count": 26,
     "metadata": {},
     "output_type": "execute_result"
    }
   ],
   "source": [
    "xyzcust10.dtypes"
   ]
  },
  {
   "attachments": {
    "image.png": {
     "image/png": "[encoded data removed]"
    }
   },
   "cell_type": "markdown",
   "metadata": {},
   "source": [
    "                                            Data Dictionary for xycust10\n",
    "![image.png](attachment:image.png)"
   ]
  },
  {
   "cell_type": "raw",
   "metadata": {},
   "source": [
    "Look at the first and last rows in xyzcust10:"
   ]
  },
  {
   "cell_type": "code",
   "execution_count": 70,
   "metadata": {},
   "outputs": [
    {
     "data": {
      "text/html": [
       "<div>\n",
       "<style scoped>\n",
       "    .dataframe tbody tr th:only-of-type {\n",
       "        vertical-align: middle;\n",
       "    }\n",
       "\n",
       "    .dataframe tbody tr th {\n",
       "        vertical-align: top;\n",
       "    }\n",
       "\n",
       "    .dataframe thead th {\n",
       "        text-align: right;\n",
       "    }\n",
       "</style>\n",
       "<table border=\"1\" class=\"dataframe\">\n",
       "  <thead>\n",
       "    <tr style=\"text-align: right;\">\n",
       "      <th></th>\n",
       "      <th>ACCTNO</th>\n",
       "      <th>ZIP</th>\n",
       "      <th>ZIP4</th>\n",
       "      <th>LTD_SALES</th>\n",
       "      <th>LTD_TRANSACTIONS</th>\n",
       "      <th>YTD_SALES_2009</th>\n",
       "      <th>YTD_TRANSACTIONS_2009</th>\n",
       "      <th>CHANNEL_ACQUISITION</th>\n",
       "      <th>BUYER_STATUS</th>\n",
       "      <th>ZIP9_Supercode</th>\n",
       "      <th>ZIP9_SUPERCODE</th>\n",
       "    </tr>\n",
       "  </thead>\n",
       "  <tbody>\n",
       "    <tr>\n",
       "      <th>0</th>\n",
       "      <td>WDQQLLDQL</td>\n",
       "      <td>60084</td>\n",
       "      <td>5016</td>\n",
       "      <td>90.0</td>\n",
       "      <td>1</td>\n",
       "      <td>0.0</td>\n",
       "      <td>0</td>\n",
       "      <td>IB</td>\n",
       "      <td>INACTIVE</td>\n",
       "      <td>600845016</td>\n",
       "      <td>600845016</td>\n",
       "    </tr>\n",
       "    <tr>\n",
       "      <th>1</th>\n",
       "      <td>WQWAYHYLA</td>\n",
       "      <td>60091</td>\n",
       "      <td>1750</td>\n",
       "      <td>4227.0</td>\n",
       "      <td>9</td>\n",
       "      <td>1263.0</td>\n",
       "      <td>3</td>\n",
       "      <td>RT</td>\n",
       "      <td>ACTIVE</td>\n",
       "      <td>600911750</td>\n",
       "      <td>600911750</td>\n",
       "    </tr>\n",
       "    <tr>\n",
       "      <th>2</th>\n",
       "      <td>GSHAPLHAW</td>\n",
       "      <td>60067</td>\n",
       "      <td>900</td>\n",
       "      <td>420.0</td>\n",
       "      <td>3</td>\n",
       "      <td>129.0</td>\n",
       "      <td>1</td>\n",
       "      <td>RT</td>\n",
       "      <td>ACTIVE</td>\n",
       "      <td>600670900</td>\n",
       "      <td>600670900</td>\n",
       "    </tr>\n",
       "    <tr>\n",
       "      <th>3</th>\n",
       "      <td>PGGYDYWAD</td>\n",
       "      <td>60068</td>\n",
       "      <td>3838</td>\n",
       "      <td>6552.0</td>\n",
       "      <td>6</td>\n",
       "      <td>0.0</td>\n",
       "      <td>0</td>\n",
       "      <td>RT</td>\n",
       "      <td>INACTIVE</td>\n",
       "      <td>600683838</td>\n",
       "      <td>600683838</td>\n",
       "    </tr>\n",
       "    <tr>\n",
       "      <th>4</th>\n",
       "      <td>LWPSGPLLS</td>\n",
       "      <td>60090</td>\n",
       "      <td>3932</td>\n",
       "      <td>189.0</td>\n",
       "      <td>3</td>\n",
       "      <td>72.0</td>\n",
       "      <td>1</td>\n",
       "      <td>RT</td>\n",
       "      <td>ACTIVE</td>\n",
       "      <td>600903932</td>\n",
       "      <td>600903932</td>\n",
       "    </tr>\n",
       "  </tbody>\n",
       "</table>\n",
       "</div>"
      ],
      "text/plain": [
       "      ACCTNO    ZIP  ZIP4  LTD_SALES  LTD_TRANSACTIONS  YTD_SALES_2009  \\\n",
       "0  WDQQLLDQL  60084  5016       90.0                 1             0.0   \n",
       "1  WQWAYHYLA  60091  1750     4227.0                 9          1263.0   \n",
       "2  GSHAPLHAW  60067   900      420.0                 3           129.0   \n",
       "3  PGGYDYWAD  60068  3838     6552.0                 6             0.0   \n",
       "4  LWPSGPLLS  60090  3932      189.0                 3            72.0   \n",
       "\n",
       "   YTD_TRANSACTIONS_2009 CHANNEL_ACQUISITION BUYER_STATUS  ZIP9_Supercode  \\\n",
       "0                      0                  IB     INACTIVE       600845016   \n",
       "1                      3                  RT       ACTIVE       600911750   \n",
       "2                      1                  RT       ACTIVE       600670900   \n",
       "3                      0                  RT     INACTIVE       600683838   \n",
       "4                      1                  RT       ACTIVE       600903932   \n",
       "\n",
       "   ZIP9_SUPERCODE  \n",
       "0       600845016  \n",
       "1       600911750  \n",
       "2       600670900  \n",
       "3       600683838  \n",
       "4       600903932  "
      ]
     },
     "execution_count": 70,
     "metadata": {},
     "output_type": "execute_result"
    }
   ],
   "source": [
    "xyzcust10.head()"
   ]
  },
  {
   "cell_type": "code",
   "execution_count": 28,
   "metadata": {},
   "outputs": [
    {
     "data": {
      "text/html": [
       "<div>\n",
       "<style scoped>\n",
       "    .dataframe tbody tr th:only-of-type {\n",
       "        vertical-align: middle;\n",
       "    }\n",
       "\n",
       "    .dataframe tbody tr th {\n",
       "        vertical-align: top;\n",
       "    }\n",
       "\n",
       "    .dataframe thead th {\n",
       "        text-align: right;\n",
       "    }\n",
       "</style>\n",
       "<table border=\"1\" class=\"dataframe\">\n",
       "  <thead>\n",
       "    <tr style=\"text-align: right;\">\n",
       "      <th></th>\n",
       "      <th>ACCTNO</th>\n",
       "      <th>ZIP</th>\n",
       "      <th>ZIP4</th>\n",
       "      <th>LTD_SALES</th>\n",
       "      <th>LTD_TRANSACTIONS</th>\n",
       "      <th>YTD_SALES_2009</th>\n",
       "      <th>YTD_TRANSACTIONS_2009</th>\n",
       "      <th>CHANNEL_ACQUISITION</th>\n",
       "      <th>BUYER_STATUS</th>\n",
       "      <th>ZIP9_Supercode</th>\n",
       "      <th>ZIP9_SUPERCODE</th>\n",
       "    </tr>\n",
       "  </thead>\n",
       "  <tbody>\n",
       "    <tr>\n",
       "      <th>30466</th>\n",
       "      <td>SYDQYLSWH</td>\n",
       "      <td>60098</td>\n",
       "      <td>3951</td>\n",
       "      <td>2736.0</td>\n",
       "      <td>9</td>\n",
       "      <td>96.0</td>\n",
       "      <td>1</td>\n",
       "      <td>RT</td>\n",
       "      <td>ACTIVE</td>\n",
       "      <td>600983951</td>\n",
       "      <td>600983951</td>\n",
       "    </tr>\n",
       "    <tr>\n",
       "      <th>30467</th>\n",
       "      <td>SAPDQHQLP</td>\n",
       "      <td>60098</td>\n",
       "      <td>9681</td>\n",
       "      <td>2412.0</td>\n",
       "      <td>8</td>\n",
       "      <td>108.0</td>\n",
       "      <td>1</td>\n",
       "      <td>RT</td>\n",
       "      <td>ACTIVE</td>\n",
       "      <td>600989681</td>\n",
       "      <td>600989681</td>\n",
       "    </tr>\n",
       "    <tr>\n",
       "      <th>30468</th>\n",
       "      <td>SASYAPDSY</td>\n",
       "      <td>60098</td>\n",
       "      <td>0</td>\n",
       "      <td>429.0</td>\n",
       "      <td>1</td>\n",
       "      <td>0.0</td>\n",
       "      <td>0</td>\n",
       "      <td>RT</td>\n",
       "      <td>INACTIVE</td>\n",
       "      <td>600983858</td>\n",
       "      <td>600983858</td>\n",
       "    </tr>\n",
       "    <tr>\n",
       "      <th>30469</th>\n",
       "      <td>PWQPDWHA</td>\n",
       "      <td>60098</td>\n",
       "      <td>7927</td>\n",
       "      <td>651.0</td>\n",
       "      <td>1</td>\n",
       "      <td>0.0</td>\n",
       "      <td>0</td>\n",
       "      <td>RT</td>\n",
       "      <td>INACTIVE</td>\n",
       "      <td>600987927</td>\n",
       "      <td>600987927</td>\n",
       "    </tr>\n",
       "    <tr>\n",
       "      <th>30470</th>\n",
       "      <td>SQQHDYHWH</td>\n",
       "      <td>60098</td>\n",
       "      <td>4160</td>\n",
       "      <td>4527.0</td>\n",
       "      <td>16</td>\n",
       "      <td>672.0</td>\n",
       "      <td>2</td>\n",
       "      <td>RT</td>\n",
       "      <td>ACTIVE</td>\n",
       "      <td>600984160</td>\n",
       "      <td>600984160</td>\n",
       "    </tr>\n",
       "  </tbody>\n",
       "</table>\n",
       "</div>"
      ],
      "text/plain": [
       "          ACCTNO    ZIP  ZIP4  LTD_SALES  LTD_TRANSACTIONS  YTD_SALES_2009  \\\n",
       "30466  SYDQYLSWH  60098  3951     2736.0                 9            96.0   \n",
       "30467  SAPDQHQLP  60098  9681     2412.0                 8           108.0   \n",
       "30468  SASYAPDSY  60098     0      429.0                 1             0.0   \n",
       "30469   PWQPDWHA  60098  7927      651.0                 1             0.0   \n",
       "30470  SQQHDYHWH  60098  4160     4527.0                16           672.0   \n",
       "\n",
       "       YTD_TRANSACTIONS_2009 CHANNEL_ACQUISITION BUYER_STATUS  ZIP9_Supercode  \\\n",
       "30466                      1                  RT       ACTIVE       600983951   \n",
       "30467                      1                  RT       ACTIVE       600989681   \n",
       "30468                      0                  RT     INACTIVE       600983858   \n",
       "30469                      0                  RT     INACTIVE       600987927   \n",
       "30470                      2                  RT       ACTIVE       600984160   \n",
       "\n",
       "       ZIP9_SUPERCODE  \n",
       "30466       600983951  \n",
       "30467       600989681  \n",
       "30468       600983858  \n",
       "30469       600987927  \n",
       "30470       600984160  "
      ]
     },
     "execution_count": 28,
     "metadata": {},
     "output_type": "execute_result"
    }
   ],
   "source": [
    "xyzcust10.tail()"
   ]
  },
  {
   "cell_type": "raw",
   "metadata": {},
   "source": [
    "Note that in this file missing values for ZIP, ZIP4, and the nine digit ZIP are represented with zeros, “0's.”  The ZIPs could really also be coded as strings, rather than as integers, couldn't they?  Also, it looks like there might be two nine digit ZIP code variables.  Are they the same? \n",
    "\n",
    "That is are the values in these two variables the same for every row of data?  How would you locate the rows in xyzcust10 that have a zero for ZIP or for ZIP4?  We'll see in the next session's Python Practice."
   ]
  },
  {
   "cell_type": "markdown",
   "metadata": {},
   "source": [
    "# Requirements :\n",
    "1. Produce a list of Zip values in xyzcust10 along with their frequencies\n",
    "2. How many records with missing ZIP in xyzcust10?\n",
    "3. How many active and inactive BUYER_STATUS in xyzcust10?\n",
    "4. Of all the active customers, what is the break down based upon the channel acquistion?\n",
    "5. Check that the data matches the data dictionary. Are all Lapsed customers properly labeled - meaning\n",
    "   they did not purchase anything in 2009? Show your code to how you came to your answer.\n",
    "6. List the top 10 'inactive' customers by life to date sales?\n"
   ]
  },
  {
   "cell_type": "code",
   "execution_count": 81,
   "metadata": {},
   "outputs": [
    {
     "data": {
      "text/plain": [
       "60091    3458\n",
       "60093    3178\n",
       "60062    3099\n",
       "60067    3050\n",
       "60068    2781\n",
       "60089    2007\n",
       "60056    1529\n",
       "60074    1313\n",
       "60060    1296\n",
       "60061    1207\n",
       "60076    1090\n",
       "60069     784\n",
       "60077     740\n",
       "60084     723\n",
       "60073     686\n",
       "60090     648\n",
       "60098     564\n",
       "60070     463\n",
       "60085     379\n",
       "60083     344\n",
       "60081     322\n",
       "60087     268\n",
       "60097     151\n",
       "60096     125\n",
       "60071      98\n",
       "60064      42\n",
       "60072      34\n",
       "60088      28\n",
       "60078      25\n",
       "60065      21\n",
       "60075       5\n",
       "60094       4\n",
       "60082       3\n",
       "60079       2\n",
       "60192       2\n",
       "60095       1\n",
       "0           1\n",
       "Name: ZIP, dtype: int64"
      ]
     },
     "execution_count": 81,
     "metadata": {},
     "output_type": "execute_result"
    }
   ],
   "source": [
    "# Write your python code here with one new cell for each requirement\n",
    "# 1 Produce a list of Zip values in xyzcust10 along with their frequencies\n",
    "xyzcust10.ZIP.value_counts()"
   ]
  },
  {
   "cell_type": "code",
   "execution_count": 82,
   "metadata": {},
   "outputs": [
    {
     "name": "stdout",
     "output_type": "stream",
     "text": [
      "1 records with missing ZIP in xyzcust10\n",
      "0 null(s) in Zip column\n"
     ]
    }
   ],
   "source": [
    "#2 How many records with missing ZIP in xyzcust10?\n",
    "print(sum(xyzcust10.ZIP==0), \"records with missing ZIP in xyzcust10\")\n",
    "print(xyzcust10.loc[:,'ZIP'].isnull().sum(), \"null(s) in Zip column\")"
   ]
  },
  {
   "cell_type": "code",
   "execution_count": 108,
   "metadata": {},
   "outputs": [
    {
     "data": {
      "text/plain": [
       "ACTIVE      13465\n",
       "INACTIVE     9078\n",
       "LAPSED       7928\n",
       "Name: BUYER_STATUS, dtype: int64"
      ]
     },
     "execution_count": 108,
     "metadata": {},
     "output_type": "execute_result"
    },
    {
     "name": "stdout",
     "output_type": "stream",
     "text": [
      "There are 13465 active and 9078 inactive BUYER_STATUS in xyzcust10\n"
     ]
    }
   ],
   "source": [
    "#3 How many active and inactive BUYER_STATUS in xyzcust10?\n",
    "xyzcust10.BUYER_STATUS.value_counts()\n",
    "\n",
    "print('There are {0} active and {1} inactive BUYER_STATUS in xyzcust10.'.format(\n",
    "    xyzcust10.BUYER_STATUS[xyzcust10.BUYER_STATUS=='ACTIVE'].count(), \n",
    "    xyzcust10.BUYER_STATUS[xyzcust10.BUYER_STATUS=='INACTIVE'].count()))"
   ]
  },
  {
   "cell_type": "code",
   "execution_count": 84,
   "metadata": {},
   "outputs": [
    {
     "data": {
      "text/plain": [
       "RT    10827\n",
       "IB     1829\n",
       "CB      809\n",
       "Name: CHANNEL_ACQUISITION, dtype: int64"
      ]
     },
     "execution_count": 84,
     "metadata": {},
     "output_type": "execute_result"
    }
   ],
   "source": [
    "#4 Of all the active customers, what is the break down based upon the channel acquistion?\n",
    "xyzcust10.CHANNEL_ACQUISITION[xyzcust10.BUYER_STATUS=='ACTIVE'].value_counts()"
   ]
  },
  {
   "cell_type": "code",
   "execution_count": 109,
   "metadata": {},
   "outputs": [
    {
     "data": {
      "text/plain": [
       "0"
      ]
     },
     "execution_count": 109,
     "metadata": {},
     "output_type": "execute_result"
    },
    {
     "data": {
      "text/plain": [
       "0.0"
      ]
     },
     "execution_count": 109,
     "metadata": {},
     "output_type": "execute_result"
    },
    {
     "name": "stdout",
     "output_type": "stream",
     "text": [
      "Yes,  all Lapsed customers properly labeled because Lapsed customers did not purchase anything in 2009\n"
     ]
    }
   ],
   "source": [
    "#5 Check that the data matches the data dictionary. Are all Lapsed customers properly labeled - \n",
    "#  meaning they did not purchase anything in 2009? Show your code to how you came to your answer.\n",
    "\n",
    "## sum(xyzcust10.BUYER_STATUS=='LAPSED')\n",
    "sum(xyzcust10.YTD_TRANSACTIONS_2009[xyzcust10.BUYER_STATUS=='LAPSED'])\n",
    "#or\n",
    "sum(xyzcust10.YTD_SALES_2009[xyzcust10.BUYER_STATUS=='LAPSED'])\n",
    "print('Yes,  all Lapsed customers properly labeled because Lapsed customers did not purchase anything in 2009')"
   ]
  },
  {
   "cell_type": "code",
   "execution_count": 110,
   "metadata": {},
   "outputs": [
    {
     "name": "stdout",
     "output_type": "stream",
     "text": [
      "Here is the list of the top 10 inactive customers by LTD sales\n"
     ]
    },
    {
     "data": {
      "text/plain": [
       "11714    30696.0\n",
       "5761     14946.0\n",
       "15700    12078.0\n",
       "28839    11529.0\n",
       "13790    10455.0\n",
       "11095    10095.0\n",
       "9375      8889.0\n",
       "5692      8745.0\n",
       "12919     8661.0\n",
       "6535      8598.0\n",
       "Name: LTD_SALES, dtype: float64"
      ]
     },
     "execution_count": 110,
     "metadata": {},
     "output_type": "execute_result"
    }
   ],
   "source": [
    "#6 List the top 10 'inactive' customers by life to date sales?\n",
    "\n",
    "print('Here is the list of the top 10 inactive customers by LTD sales')\n",
    "xyzcust10.LTD_SALES[xyzcust10.BUYER_STATUS=='INACTIVE'].nlargest(10)"
   ]
  }
 ],
 "metadata": {
  "kernelspec": {
   "display_name": "Python 3",
   "language": "python",
   "name": "python3"
  },
  "language_info": {
   "codemirror_mode": {
    "name": "ipython",
    "version": 3
   },
   "file_extension": ".py",
   "mimetype": "text/x-python",
   "name": "python",
   "nbconvert_exporter": "python",
   "pygments_lexer": "ipython3",
   "version": "3.6.7"
  }
 },
 "nbformat": 4,
 "nbformat_minor": 1
}
