{
 "cells": [
  {
   "cell_type": "markdown",
   "metadata": {},
   "source": [
    "## Introduction\n",
    "The Boston Housing Study dataset has 506 observations and 13 columns. The response variable is the median value of homes in several neighborhoods. Neighborhood category variable was dropped when we prepared data for regression analysis.  We need to use various regression models to determine the overall performance in terms of root-mean-squared error and R-square score, and recommend the best performer to management. <br>\n",
    "\n",
    "Note: this assignment is a continuation of Assignment 3. As a result, EDA was skipped."
   ]
  },
  {
   "cell_type": "code",
   "execution_count": 1,
   "metadata": {},
   "outputs": [],
   "source": [
    "# seed value for random number generators to obtain reproducible results\n",
    "RANDOM_SEED = 1\n",
    "\n",
    "# ignore all future warnings\n",
    "from warnings import simplefilter\n",
    "simplefilter(action='ignore', category=FutureWarning)\n",
    "import warnings \n",
    "warnings.filterwarnings(\"ignore\")\n",
    "\n",
    "# Execute the code line by line in jupyter-notebook\n",
    "from IPython.core.interactiveshell import InteractiveShell\n",
    "InteractiveShell.ast_node_interactivity = \"all\"\n",
    "\n",
    "# import base packages into the namespace for this program\n",
    "import numpy as np\n",
    "import pandas as pd\n",
    "import matplotlib.pyplot as plt\n",
    "import seaborn as sns\n",
    "\n",
    "# modeling routines from Scikit Learn packages\n",
    "from sklearn.preprocessing import StandardScaler\n",
    "from sklearn.model_selection import train_test_split, GridSearchCV, RandomizedSearchCV, \\\n",
    "cross_val_score, cross_val_predict\n",
    "from sklearn.linear_model import LinearRegression, Ridge, Lasso\n",
    "from sklearn.ensemble import RandomForestRegressor, GradientBoostingRegressor\n",
    "from sklearn.metrics import mean_squared_error\n",
    "from math import sqrt  # for root mean-squared error calculation\n"
   ]
  },
  {
   "cell_type": "code",
   "execution_count": 2,
   "metadata": {},
   "outputs": [],
   "source": [
    "# read data for the Boston Housing Study\n",
    "boston_input = pd.read_csv('boston.csv')"
   ]
  },
  {
   "cell_type": "code",
   "execution_count": 3,
   "metadata": {},
   "outputs": [],
   "source": [
    "# drop neighborhood from the data being considered\n",
    "# response variable is house median value\n",
    "boston = boston_input.drop('neighborhood', 1)"
   ]
  },
  {
   "cell_type": "markdown",
   "metadata": {},
   "source": [
    "## Skipping the data exploration and visualization\n",
    "\n",
    "The data is clean and there are no null values."
   ]
  },
  {
   "cell_type": "markdown",
   "metadata": {},
   "source": [
    "## Data Preparation for Modeling"
   ]
  },
  {
   "cell_type": "code",
   "execution_count": 4,
   "metadata": {},
   "outputs": [],
   "source": [
    "# the mv column is the response variable\n",
    "# the remaining columns are the explanatory variables\n",
    "\n",
    "## boston.values # convert to array\n",
    "y = boston[['mv']].values.ravel()\n",
    "X = boston.loc[:, 'crim':'lstat'].values"
   ]
  },
  {
   "cell_type": "code",
   "execution_count": 5,
   "metadata": {},
   "outputs": [
    {
     "name": "stdout",
     "output_type": "stream",
     "text": [
      "X.shape: (506, 12)      X_train.shape: (404, 12)      X_test.shape: (102, 12)\n"
     ]
    }
   ],
   "source": [
    "# here we split our data into training and testing sets\n",
    "X_train, X_test, y_train, y_test = train_test_split(X, y, test_size = 0.2, random_state = RANDOM_SEED)\n",
    "print(\"X.shape:\", X.shape, \"     X_train.shape:\", X_train.shape, \"     X_test.shape:\", X_test.shape)"
   ]
  },
  {
   "cell_type": "markdown",
   "metadata": {},
   "source": [
    "## Model Exploration"
   ]
  },
  {
   "cell_type": "markdown",
   "metadata": {},
   "source": [
    "After splitting the data into training and testing sets, we need to scale explanatory variables for regression modeling. We are scaling the data after slicing it into training and testing sets to prevent data leakage. However, decision tree algorithms (random forest and gradient boosting) don’t depend on scaling; no preprocessing like normalization or standardization of features is needed."
   ]
  },
  {
   "cell_type": "code",
   "execution_count": 6,
   "metadata": {},
   "outputs": [],
   "source": [
    "# performance score function with scaling true|false argument\n",
    "def performance_score (model, model_name, scale = True):\n",
    "    if scale:\n",
    "        # scale the data: We added '_R' suffix into sliced data for the purposes of regression modeling. \n",
    "        # Variables without this suffix will be used for decision tree modeling.\n",
    "        scaler = StandardScaler()\n",
    "        X_train_R = scaler.fit_transform(X_train)\n",
    "        X_test_R = scaler.fit_transform(X_test)\n",
    "        # performance score calculation for scaled data\n",
    "        model = model.fit(X_train_R, y_train)\n",
    "        train_score = np.round(model.score(X_train_R, y_train),3) # R-square\n",
    "        test_score = np.round(model.score(X_test_R, y_test),3) # R-square\n",
    "        train_RMSE = np.round(np.sqrt(mean_squared_error(y_train, model.predict(X_train_R))),3)\n",
    "        test_RMSE = np.round(np.sqrt(mean_squared_error(y_test, model.predict(X_test_R))),3)\n",
    "        try:\n",
    "            print(\"Number of features used:\", np.sum(model.coef_ != 0))\n",
    "        except:\n",
    "            pass\n",
    "    else:\n",
    "        # performance score calculation for non-scaled data\n",
    "        model = model.fit(X_train, y_train)\n",
    "        train_score = np.round(model.score(X_train, y_train),3) # R-square\n",
    "        test_score = np.round(model.score(X_test, y_test),3) # R-square\n",
    "        train_RMSE = np.round(np.sqrt(mean_squared_error(y_train, model.predict(X_train))),3)\n",
    "        test_RMSE = np.round(np.sqrt(mean_squared_error(y_test, model.predict(X_test))),3)\n",
    "        # r2_score(y_test, forest.predict(X_test))\n",
    "        try:\n",
    "            print(\"Number of features used:\", np.sum(model.coef_ != 0))\n",
    "        except:\n",
    "            pass\n",
    "    # performance score table\n",
    "    col_names = ['Model','Training RMSE', 'Test RMSE', 'Training Score', 'Test Score']\n",
    "    perf = pd.DataFrame([model_name, train_RMSE, test_RMSE, train_score, test_score], columns = [''],\n",
    "                            index = col_names).T\n",
    "    return perf"
   ]
  },
  {
   "cell_type": "markdown",
   "metadata": {},
   "source": [
    "### Linear Models \n",
    "**Linear Regression**"
   ]
  },
  {
   "cell_type": "code",
   "execution_count": 7,
   "metadata": {},
   "outputs": [
    {
     "name": "stdout",
     "output_type": "stream",
     "text": [
      "Number of features used: 12\n"
     ]
    },
    {
     "data": {
      "text/html": [
       "<div>\n",
       "<style scoped>\n",
       "    .dataframe tbody tr th:only-of-type {\n",
       "        vertical-align: middle;\n",
       "    }\n",
       "\n",
       "    .dataframe tbody tr th {\n",
       "        vertical-align: top;\n",
       "    }\n",
       "\n",
       "    .dataframe thead th {\n",
       "        text-align: right;\n",
       "    }\n",
       "</style>\n",
       "<table border=\"1\" class=\"dataframe\">\n",
       "  <thead>\n",
       "    <tr style=\"text-align: right;\">\n",
       "      <th></th>\n",
       "      <th>Model</th>\n",
       "      <th>Training RMSE</th>\n",
       "      <th>Test RMSE</th>\n",
       "      <th>Training Score</th>\n",
       "      <th>Test Score</th>\n",
       "    </tr>\n",
       "  </thead>\n",
       "  <tbody>\n",
       "    <tr>\n",
       "      <th></th>\n",
       "      <td>Linear Regression</td>\n",
       "      <td>4.658</td>\n",
       "      <td>4.865</td>\n",
       "      <td>0.73</td>\n",
       "      <td>0.761</td>\n",
       "    </tr>\n",
       "  </tbody>\n",
       "</table>\n",
       "</div>"
      ],
      "text/plain": [
       "              Model Training RMSE Test RMSE Training Score Test Score\n",
       "  Linear Regression         4.658     4.865           0.73      0.761"
      ]
     },
     "execution_count": 7,
     "metadata": {},
     "output_type": "execute_result"
    }
   ],
   "source": [
    "linear = LinearRegression()\n",
    "linear_p = performance_score(model = linear, model_name = 'Linear Regression', scale = True); linear_p"
   ]
  },
  {
   "cell_type": "markdown",
   "metadata": {},
   "source": [
    "We need to lower RMSE and increase R-square score. Linear Regression does not have any regularization parameters."
   ]
  },
  {
   "cell_type": "markdown",
   "metadata": {},
   "source": [
    "**Lasso Regression**"
   ]
  },
  {
   "cell_type": "markdown",
   "metadata": {},
   "source": [
    "Lasso has a regularization parameter, alpha, that controls how strongly coefficients are pushed toward zero. The default alpha is 1.0. We use grid search to get the best alpha."
   ]
  },
  {
   "cell_type": "code",
   "execution_count": 8,
   "metadata": {},
   "outputs": [],
   "source": [
    "def optimize (model, param_grid, scale = True):\n",
    "    if scale:\n",
    "        # scale the data: We added '_R' suffix into sliced data for the purposes of regression modeling. \n",
    "        # Variables without this suffix will be used for decision tree modeling.\n",
    "        scaler = StandardScaler()\n",
    "        X_train_R = scaler.fit_transform(X_train)\n",
    "        X_test_R = scaler.fit_transform(X_test)\n",
    "        # performance score calculation for scaled data\n",
    "        gs = GridSearchCV(model, param_grid).fit(X_train_R, y_train)\n",
    "        print('The optimized alpha value = ', gs.best_params_)\n",
    "    else:\n",
    "        # optimization for non-scaled data\n",
    "        gs = GridSearchCV(model, param_grid).fit(X_train, y_train)\n",
    "        print('The tuned hyperparamters for Random Forest are:', gs.best_params_)        "
   ]
  },
  {
   "cell_type": "code",
   "execution_count": 22,
   "metadata": {},
   "outputs": [
    {
     "name": "stdout",
     "output_type": "stream",
     "text": [
      "The optimized alpha value =  {'alpha': 0.01}\n"
     ]
    }
   ],
   "source": [
    "# find the best alpha\n",
    "param_grid = {'alpha': [1e-15, 1e-10, 1e-8, 1e-4, 1e-3, 1e-2, 1, 5, 10, 20]}\n",
    "optimize(model = Lasso(), param_grid = param_grid, scale = True)"
   ]
  },
  {
   "cell_type": "code",
   "execution_count": 10,
   "metadata": {},
   "outputs": [
    {
     "name": "stdout",
     "output_type": "stream",
     "text": [
      "Number of features used: 12\n"
     ]
    },
    {
     "data": {
      "text/html": [
       "<div>\n",
       "<style scoped>\n",
       "    .dataframe tbody tr th:only-of-type {\n",
       "        vertical-align: middle;\n",
       "    }\n",
       "\n",
       "    .dataframe tbody tr th {\n",
       "        vertical-align: top;\n",
       "    }\n",
       "\n",
       "    .dataframe thead th {\n",
       "        text-align: right;\n",
       "    }\n",
       "</style>\n",
       "<table border=\"1\" class=\"dataframe\">\n",
       "  <thead>\n",
       "    <tr style=\"text-align: right;\">\n",
       "      <th></th>\n",
       "      <th>Model</th>\n",
       "      <th>Training RMSE</th>\n",
       "      <th>Test RMSE</th>\n",
       "      <th>Training Score</th>\n",
       "      <th>Test Score</th>\n",
       "    </tr>\n",
       "  </thead>\n",
       "  <tbody>\n",
       "    <tr>\n",
       "      <th></th>\n",
       "      <td>lasso01</td>\n",
       "      <td>4.659</td>\n",
       "      <td>4.868</td>\n",
       "      <td>0.73</td>\n",
       "      <td>0.76</td>\n",
       "    </tr>\n",
       "  </tbody>\n",
       "</table>\n",
       "</div>"
      ],
      "text/plain": [
       "    Model Training RMSE Test RMSE Training Score Test Score\n",
       "  lasso01         4.659     4.868           0.73       0.76"
      ]
     },
     "execution_count": 10,
     "metadata": {},
     "output_type": "execute_result"
    }
   ],
   "source": [
    "lasso01 = Lasso(alpha = 0.01)\n",
    "lasso01_p = performance_score(model = lasso01, model_name = 'lasso01', scale = True); lasso01_p"
   ]
  },
  {
   "cell_type": "markdown",
   "metadata": {},
   "source": [
    "As the value of alpha decreases, the model complexity increases. Though lower values of alpha increase overfitting. The RMSE (error) score is slightly improved. Using alpha = 0.01, we get a model that is quite unregularized, with all coefficients nonzero and of large magnitude. We are using all 12 features. Since alpha is close to zero, coefficients should be the same as simple linear regression. We have around 400 training data. However, with enough training data, regularization becomes less important."
   ]
  },
  {
   "cell_type": "markdown",
   "metadata": {},
   "source": [
    "**Ridge Regression**"
   ]
  },
  {
   "cell_type": "markdown",
   "metadata": {},
   "source": [
    "Ridge also has a regularization parameter, alpha, that controls how strongly coefficients are pushed toward zero. The default alpha is 1.0. We use grid search to get the best alpha."
   ]
  },
  {
   "cell_type": "code",
   "execution_count": 11,
   "metadata": {},
   "outputs": [
    {
     "name": "stdout",
     "output_type": "stream",
     "text": [
      "The optimized alpha value =  {'alpha': 5}\n"
     ]
    }
   ],
   "source": [
    "# find the best alpha\n",
    "param_grid = {'alpha': [1e-15, 1e-10, 1e-8, 1e-4, 1e-3, 1e-2, 1, 5, 10, 20]}\n",
    "optimize(model = Ridge(), param_grid = param_grid, scale = True)"
   ]
  },
  {
   "cell_type": "code",
   "execution_count": 12,
   "metadata": {},
   "outputs": [
    {
     "name": "stdout",
     "output_type": "stream",
     "text": [
      "Number of features used: 12\n"
     ]
    },
    {
     "data": {
      "text/html": [
       "<div>\n",
       "<style scoped>\n",
       "    .dataframe tbody tr th:only-of-type {\n",
       "        vertical-align: middle;\n",
       "    }\n",
       "\n",
       "    .dataframe tbody tr th {\n",
       "        vertical-align: top;\n",
       "    }\n",
       "\n",
       "    .dataframe thead th {\n",
       "        text-align: right;\n",
       "    }\n",
       "</style>\n",
       "<table border=\"1\" class=\"dataframe\">\n",
       "  <thead>\n",
       "    <tr style=\"text-align: right;\">\n",
       "      <th></th>\n",
       "      <th>Model</th>\n",
       "      <th>Training RMSE</th>\n",
       "      <th>Test RMSE</th>\n",
       "      <th>Training Score</th>\n",
       "      <th>Test Score</th>\n",
       "    </tr>\n",
       "  </thead>\n",
       "  <tbody>\n",
       "    <tr>\n",
       "      <th></th>\n",
       "      <td>ridge5</td>\n",
       "      <td>4.662</td>\n",
       "      <td>4.871</td>\n",
       "      <td>0.73</td>\n",
       "      <td>0.76</td>\n",
       "    </tr>\n",
       "  </tbody>\n",
       "</table>\n",
       "</div>"
      ],
      "text/plain": [
       "   Model Training RMSE Test RMSE Training Score Test Score\n",
       "  ridge5         4.662     4.871           0.73       0.76"
      ]
     },
     "execution_count": 12,
     "metadata": {},
     "output_type": "execute_result"
    }
   ],
   "source": [
    "ridge5 = Ridge(alpha = 5)\n",
    "ridge5_p = performance_score(model = ridge5, model_name = 'ridge5', scale = True); ridge5_p"
   ]
  },
  {
   "cell_type": "markdown",
   "metadata": {},
   "source": [
    "The RMSE score is slightly higher than lasso and linear regression. <br>\n",
    "<br>\n",
    "Utilizing default 3-fold cross-validation, each of these models returned an RMSE test score between 4.865 and 4.871 as well as a test R-value score of 0.76.  While all of the regression models are competitive, linear regression has an advantage with a slightly lower residual error, and should the analysis within this assignment end here; linear regression would be the selected champion model.\n"
   ]
  },
  {
   "cell_type": "markdown",
   "metadata": {},
   "source": [
    "### Decision Trees: \n",
    "**Random Forrest**"
   ]
  },
  {
   "cell_type": "markdown",
   "metadata": {},
   "source": [
    "Ensembles are methods that combine multiple decision tree models to create more powerful models: random forests and gradient boosted decision trees. <br>\n",
    "As each feature is processed separately, and the possible splits of the data don’t depend on scaling, no preprocessing like normalization or standardization of features is needed for decision tree algorithms. In particular, decision trees work well when we have features that are on completely different scales, or a mix of binary and continuous features."
   ]
  },
  {
   "cell_type": "code",
   "execution_count": 13,
   "metadata": {},
   "outputs": [],
   "source": [
    "# identify the features that are most important in predicting home prices\n",
    "def plot_feature_importances(model):\n",
    "    feature_importance = \\\n",
    "    pd.DataFrame(model.feature_importances_, index = boston.columns.drop('mv'), \n",
    "                 columns=['importance']).sort_values('importance', ascending = True)\n",
    "    feature_importance.plot.barh();"
   ]
  },
  {
   "cell_type": "markdown",
   "metadata": {},
   "source": [
    "Baseline random forest model"
   ]
  },
  {
   "cell_type": "code",
   "execution_count": 14,
   "metadata": {},
   "outputs": [
    {
     "data": {
      "text/html": [
       "<div>\n",
       "<style scoped>\n",
       "    .dataframe tbody tr th:only-of-type {\n",
       "        vertical-align: middle;\n",
       "    }\n",
       "\n",
       "    .dataframe tbody tr th {\n",
       "        vertical-align: top;\n",
       "    }\n",
       "\n",
       "    .dataframe thead th {\n",
       "        text-align: right;\n",
       "    }\n",
       "</style>\n",
       "<table border=\"1\" class=\"dataframe\">\n",
       "  <thead>\n",
       "    <tr style=\"text-align: right;\">\n",
       "      <th></th>\n",
       "      <th>Model</th>\n",
       "      <th>Training RMSE</th>\n",
       "      <th>Test RMSE</th>\n",
       "      <th>Training Score</th>\n",
       "      <th>Test Score</th>\n",
       "    </tr>\n",
       "  </thead>\n",
       "  <tbody>\n",
       "    <tr>\n",
       "      <th></th>\n",
       "      <td>Random Forest</td>\n",
       "      <td>1.281</td>\n",
       "      <td>3.199</td>\n",
       "      <td>0.98</td>\n",
       "      <td>0.896</td>\n",
       "    </tr>\n",
       "  </tbody>\n",
       "</table>\n",
       "</div>"
      ],
      "text/plain": [
       "          Model Training RMSE Test RMSE Training Score Test Score\n",
       "  Random Forest         1.281     3.199           0.98      0.896"
      ]
     },
     "execution_count": 14,
     "metadata": {},
     "output_type": "execute_result"
    },
    {
     "data": {
      "image/png": "[encoded data removed]",
      "text/plain": [
       "<Figure size 432x288 with 1 Axes>"
      ]
     },
     "metadata": {
      "needs_background": "light"
     },
     "output_type": "display_data"
    }
   ],
   "source": [
    "forest = RandomForestRegressor(random_state = RANDOM_SEED, max_features = 'log2')\n",
    "forest_p = performance_score(model = forest, model_name = 'Random Forest', scale = False); forest_p\n",
    "plot_feature_importances(forest)"
   ]
  },
  {
   "cell_type": "markdown",
   "metadata": {},
   "source": [
    "Default values: \n",
    "* We repeatedly draw a sample randomly with replacement (meaning the same sample can be picked multiple times) or bootstrap = True \n",
    "* The number of trees in the forest or n_estimators = 10\n",
    "\n",
    "The random forest without tuning parameters gives us a lower RMSE of 3.199 and higher R-square score of 90%, better than the linear models.\n",
    "<br><br>\n",
    "Since Boston dataset has 506 observations with 12 explanatory features, trees can grow large and deep. We need to optimize or tune hyperparameters of our model. The evaluation includes a default 3 -fold cross validation."
   ]
  },
  {
   "cell_type": "code",
   "execution_count": 15,
   "metadata": {},
   "outputs": [
    {
     "name": "stdout",
     "output_type": "stream",
     "text": [
      "The tuned hyperparamters for Random Forest are: {'bootstrap': True, 'max_depth': 30, 'n_estimators': 200}\n"
     ]
    }
   ],
   "source": [
    "# find the best parameters\n",
    "param_grid = {\n",
    "            'n_estimators': [5, 10, 50, 100, 200, 300, 400, 500, 600],\n",
    "            'max_depth': [3, 5, 10, 20, 30, 40, 50, 60, 70, 80, 90, 100],\n",
    "            'bootstrap': [True]\n",
    "}\n",
    "\n",
    "optimize(model = RandomForestRegressor(random_state = RANDOM_SEED, max_features = 'log2'), \n",
    "         param_grid = param_grid, scale = False)"
   ]
  },
  {
   "cell_type": "code",
   "execution_count": 16,
   "metadata": {},
   "outputs": [
    {
     "data": {
      "text/html": [
       "<div>\n",
       "<style scoped>\n",
       "    .dataframe tbody tr th:only-of-type {\n",
       "        vertical-align: middle;\n",
       "    }\n",
       "\n",
       "    .dataframe tbody tr th {\n",
       "        vertical-align: top;\n",
       "    }\n",
       "\n",
       "    .dataframe thead th {\n",
       "        text-align: right;\n",
       "    }\n",
       "</style>\n",
       "<table border=\"1\" class=\"dataframe\">\n",
       "  <thead>\n",
       "    <tr style=\"text-align: right;\">\n",
       "      <th></th>\n",
       "      <th>Model</th>\n",
       "      <th>Training RMSE</th>\n",
       "      <th>Test RMSE</th>\n",
       "      <th>Training Score</th>\n",
       "      <th>Test Score</th>\n",
       "    </tr>\n",
       "  </thead>\n",
       "  <tbody>\n",
       "    <tr>\n",
       "      <th></th>\n",
       "      <td>Random Forest Optimized</td>\n",
       "      <td>1.151</td>\n",
       "      <td>3.179</td>\n",
       "      <td>0.984</td>\n",
       "      <td>0.898</td>\n",
       "    </tr>\n",
       "  </tbody>\n",
       "</table>\n",
       "</div>"
      ],
      "text/plain": [
       "                    Model Training RMSE Test RMSE Training Score Test Score\n",
       "  Random Forest Optimized         1.151     3.179          0.984      0.898"
      ]
     },
     "execution_count": 16,
     "metadata": {},
     "output_type": "execute_result"
    },
    {
     "data": {
      "image/png": "[encoded data removed]",
      "text/plain": [
       "<Figure size 432x288 with 1 Axes>"
      ]
     },
     "metadata": {
      "needs_background": "light"
     },
     "output_type": "display_data"
    }
   ],
   "source": [
    "#forest_optimized  = gs.best_estimator_\n",
    "forest_optimized  =  RandomForestRegressor(random_state = RANDOM_SEED, max_features = 'log2',\n",
    "                                           bootstrap = True, \n",
    "                                           max_depth= 30, \n",
    "                                           n_estimators = 200)\n",
    "forest_optimized_p = performance_score(model = forest_optimized, model_name = 'Random Forest Optimized', \n",
    "                                       scale = False); forest_optimized_p\n",
    "plot_feature_importances(forest_optimized)"
   ]
  },
  {
   "cell_type": "markdown",
   "metadata": {},
   "source": [
    "The optimized random forest is better than the regression models we tested earlier. The random forest models provided us a lower RMSE and a higher R- square scores. However, we need to evaluate gradient boosting before we make our conclusion."
   ]
  },
  {
   "cell_type": "markdown",
   "metadata": {},
   "source": [
    "When I increased the number of trees from the default ten trees to 200 trees, assigning maximum depth value gave slightly better results. \n",
    "<br><br>\n",
    "According to the random forest features importance model, the poverty rate (lstat), rooms per house (rooms), air pollution (nox), industrial area (indus), and commute to work (dis) features are important to predict the median value of homes."
   ]
  },
  {
   "cell_type": "markdown",
   "metadata": {},
   "source": [
    "**Gradient Boosting** <br>\n",
    "Each tree tries to correct the mistakes of the previous one. By default, there is no randomization in gradient boosted regression trees; instead, strong pre-pruning is used."
   ]
  },
  {
   "cell_type": "markdown",
   "metadata": {},
   "source": [
    "Baseline gradient boosting model"
   ]
  },
  {
   "cell_type": "code",
   "execution_count": 17,
   "metadata": {},
   "outputs": [
    {
     "data": {
      "text/html": [
       "<div>\n",
       "<style scoped>\n",
       "    .dataframe tbody tr th:only-of-type {\n",
       "        vertical-align: middle;\n",
       "    }\n",
       "\n",
       "    .dataframe tbody tr th {\n",
       "        vertical-align: top;\n",
       "    }\n",
       "\n",
       "    .dataframe thead th {\n",
       "        text-align: right;\n",
       "    }\n",
       "</style>\n",
       "<table border=\"1\" class=\"dataframe\">\n",
       "  <thead>\n",
       "    <tr style=\"text-align: right;\">\n",
       "      <th></th>\n",
       "      <th>Model</th>\n",
       "      <th>Training RMSE</th>\n",
       "      <th>Test RMSE</th>\n",
       "      <th>Training Score</th>\n",
       "      <th>Test Score</th>\n",
       "    </tr>\n",
       "  </thead>\n",
       "  <tbody>\n",
       "    <tr>\n",
       "      <th></th>\n",
       "      <td>Gradient Boosting</td>\n",
       "      <td>1.486</td>\n",
       "      <td>3.066</td>\n",
       "      <td>0.973</td>\n",
       "      <td>0.905</td>\n",
       "    </tr>\n",
       "  </tbody>\n",
       "</table>\n",
       "</div>"
      ],
      "text/plain": [
       "              Model Training RMSE Test RMSE Training Score Test Score\n",
       "  Gradient Boosting         1.486     3.066          0.973      0.905"
      ]
     },
     "execution_count": 17,
     "metadata": {},
     "output_type": "execute_result"
    },
    {
     "data": {
      "image/png": "[encoded data removed]",
      "text/plain": [
       "<Figure size 432x288 with 1 Axes>"
      ]
     },
     "metadata": {
      "needs_background": "light"
     },
     "output_type": "display_data"
    }
   ],
   "source": [
    "GB = GradientBoostingRegressor(random_state = RANDOM_SEED, max_features = 'log2')\n",
    "GB_p = performance_score(model = GB, model_name = 'Gradient Boosting', scale = False); GB_p\n",
    "plot_feature_importances(GB)"
   ]
  },
  {
   "cell_type": "markdown",
   "metadata": {},
   "source": [
    "Gradient boosting gave us much better results than the regression and random forest models which we tested earlier.  <br><br>\n",
    "We can see that the feature importances of the gradient boosted trees are somewhat similar to the feature importances of the random forests, though the gradient boosting completely ignored some of the features. According to the  Gradient Boosting features importance model, the poverty rate (lstat), rooms per house (rooms), industrial area (indus), air pollution (nox), and crime rate (crim) features are important to predict the median value of homes."
   ]
  },
  {
   "cell_type": "code",
   "execution_count": 18,
   "metadata": {},
   "outputs": [
    {
     "name": "stdout",
     "output_type": "stream",
     "text": [
      "The tuned hyperparamters for Random Forest are: {'learning_rate': 0.01, 'max_depth': 6, 'n_estimators': 600}\n"
     ]
    }
   ],
   "source": [
    "# find the best parameters\n",
    "param_grid = {\n",
    "    'learning_rate': [0.1, 0.05, 0.02, 0.01, 0.005, 0.001],\n",
    "    'max_depth': [2, 4, 6],\n",
    "    'n_estimators': [100, 200, 500, 600]\n",
    "}\n",
    "optimize(model = GradientBoostingRegressor(random_state = RANDOM_SEED, max_features = 'log2'), \n",
    "         param_grid = param_grid, scale = False)"
   ]
  },
  {
   "cell_type": "code",
   "execution_count": 19,
   "metadata": {},
   "outputs": [
    {
     "data": {
      "text/html": [
       "<div>\n",
       "<style scoped>\n",
       "    .dataframe tbody tr th:only-of-type {\n",
       "        vertical-align: middle;\n",
       "    }\n",
       "\n",
       "    .dataframe tbody tr th {\n",
       "        vertical-align: top;\n",
       "    }\n",
       "\n",
       "    .dataframe thead th {\n",
       "        text-align: right;\n",
       "    }\n",
       "</style>\n",
       "<table border=\"1\" class=\"dataframe\">\n",
       "  <thead>\n",
       "    <tr style=\"text-align: right;\">\n",
       "      <th></th>\n",
       "      <th>Model</th>\n",
       "      <th>Training RMSE</th>\n",
       "      <th>Test RMSE</th>\n",
       "      <th>Training Score</th>\n",
       "      <th>Test Score</th>\n",
       "    </tr>\n",
       "  </thead>\n",
       "  <tbody>\n",
       "    <tr>\n",
       "      <th></th>\n",
       "      <td>GB Optimized</td>\n",
       "      <td>0.481</td>\n",
       "      <td>2.944</td>\n",
       "      <td>0.997</td>\n",
       "      <td>0.912</td>\n",
       "    </tr>\n",
       "  </tbody>\n",
       "</table>\n",
       "</div>"
      ],
      "text/plain": [
       "         Model Training RMSE Test RMSE Training Score Test Score\n",
       "  GB Optimized         0.481     2.944          0.997      0.912"
      ]
     },
     "execution_count": 19,
     "metadata": {},
     "output_type": "execute_result"
    },
    {
     "data": {
      "image/png": "[encoded data removed]",
      "text/plain": [
       "<Figure size 432x288 with 1 Axes>"
      ]
     },
     "metadata": {
      "needs_background": "light"
     },
     "output_type": "display_data"
    }
   ],
   "source": [
    "GB_optimized  =  GradientBoostingRegressor(random_state = RANDOM_SEED, max_features = 'log2',\n",
    "                                       learning_rate = 0.01, \n",
    "                                       max_depth = 6, \n",
    "                                       n_estimators = 600)\n",
    "GB_optimized_p = performance_score(model = GB_optimized, model_name = 'GB Optimized', \n",
    "                                   scale = False); GB_optimized_p\n",
    "plot_feature_importances(GB_optimized)"
   ]
  },
  {
   "cell_type": "markdown",
   "metadata": {},
   "source": [
    "In addition, tuning the learning rate and max depth parameters made further improvements.The optimized gradient boosting model outperformed the rest of the models. It is our winner model.The optimized gradient boosting model provided us the lowest test RMSE and the highest R-square scores. <br> The relative importance of the features within each model is somewhat similar. Both models are aligned in identifying the top five features which may satisfy management's inquiry."
   ]
  },
  {
   "cell_type": "markdown",
   "metadata": {},
   "source": [
    "**Summary**"
   ]
  },
  {
   "cell_type": "code",
   "execution_count": 20,
   "metadata": {},
   "outputs": [
    {
     "data": {
      "text/html": [
       "<div>\n",
       "<style scoped>\n",
       "    .dataframe tbody tr th:only-of-type {\n",
       "        vertical-align: middle;\n",
       "    }\n",
       "\n",
       "    .dataframe tbody tr th {\n",
       "        vertical-align: top;\n",
       "    }\n",
       "\n",
       "    .dataframe thead th {\n",
       "        text-align: right;\n",
       "    }\n",
       "</style>\n",
       "<table border=\"1\" class=\"dataframe\">\n",
       "  <thead>\n",
       "    <tr style=\"text-align: right;\">\n",
       "      <th></th>\n",
       "      <th>Model</th>\n",
       "      <th>Training RMSE</th>\n",
       "      <th>Test RMSE</th>\n",
       "      <th>Training Score</th>\n",
       "      <th>Test Score</th>\n",
       "    </tr>\n",
       "  </thead>\n",
       "  <tbody>\n",
       "    <tr>\n",
       "      <th></th>\n",
       "      <td>Linear Regression</td>\n",
       "      <td>4.658</td>\n",
       "      <td>4.865</td>\n",
       "      <td>0.73</td>\n",
       "      <td>0.761</td>\n",
       "    </tr>\n",
       "    <tr>\n",
       "      <th></th>\n",
       "      <td>lasso01</td>\n",
       "      <td>4.659</td>\n",
       "      <td>4.868</td>\n",
       "      <td>0.73</td>\n",
       "      <td>0.76</td>\n",
       "    </tr>\n",
       "    <tr>\n",
       "      <th></th>\n",
       "      <td>ridge5</td>\n",
       "      <td>4.662</td>\n",
       "      <td>4.871</td>\n",
       "      <td>0.73</td>\n",
       "      <td>0.76</td>\n",
       "    </tr>\n",
       "    <tr>\n",
       "      <th></th>\n",
       "      <td>Random Forest</td>\n",
       "      <td>1.281</td>\n",
       "      <td>3.199</td>\n",
       "      <td>0.98</td>\n",
       "      <td>0.896</td>\n",
       "    </tr>\n",
       "    <tr>\n",
       "      <th></th>\n",
       "      <td>Random Forest Optimized</td>\n",
       "      <td>1.151</td>\n",
       "      <td>3.179</td>\n",
       "      <td>0.984</td>\n",
       "      <td>0.898</td>\n",
       "    </tr>\n",
       "    <tr>\n",
       "      <th></th>\n",
       "      <td>Gradient Boosting</td>\n",
       "      <td>1.486</td>\n",
       "      <td>3.066</td>\n",
       "      <td>0.973</td>\n",
       "      <td>0.905</td>\n",
       "    </tr>\n",
       "    <tr>\n",
       "      <th></th>\n",
       "      <td>GB Optimized</td>\n",
       "      <td>0.481</td>\n",
       "      <td>2.944</td>\n",
       "      <td>0.997</td>\n",
       "      <td>0.912</td>\n",
       "    </tr>\n",
       "  </tbody>\n",
       "</table>\n",
       "</div>"
      ],
      "text/plain": [
       "                    Model Training RMSE Test RMSE Training Score Test Score\n",
       "        Linear Regression         4.658     4.865           0.73      0.761\n",
       "                  lasso01         4.659     4.868           0.73       0.76\n",
       "                   ridge5         4.662     4.871           0.73       0.76\n",
       "            Random Forest         1.281     3.199           0.98      0.896\n",
       "  Random Forest Optimized         1.151     3.179          0.984      0.898\n",
       "        Gradient Boosting         1.486     3.066          0.973      0.905\n",
       "             GB Optimized         0.481     2.944          0.997      0.912"
      ]
     },
     "execution_count": 20,
     "metadata": {},
     "output_type": "execute_result"
    }
   ],
   "source": [
    "pd.concat([linear_p, lasso01_p, ridge5_p, forest_p, forest_optimized_p,\n",
    "           GB_p, GB_optimized_p], axis = 0)"
   ]
  },
  {
   "cell_type": "markdown",
   "metadata": {},
   "source": [
    "I recommend an optimized Gradient Boosting model to the real estate brokerage firm to assess residential real estate market values. Both Random Forest and Gradient Boosting outperformed every regression model. The Gradient Boosting with tuned parameters demonstrated the strongest fit. One apparent disadvantage of using Gradient Boosting is the lack of transparency in the model's algorithm. If the expectation is to describe how the model derives its findings, then this may pose a challenge to articulate the algorithm.\n",
    "In regards to features that are predictive to home values, the predominant features are the poverty rate (lstat), rooms per house (rooms), industrial area (indus), air pollution (nox), pupil/teacher ratio (ptratio), and crime rate (crim). Each of these features, while differing in relative importance within the competing Gradient Boosting models, demonstrated significantly higher importance scores over all other features."
   ]
  }
 ],
 "metadata": {
  "kernelspec": {
   "display_name": "Python 3",
   "language": "python",
   "name": "python3"
  },
  "language_info": {
   "codemirror_mode": {
    "name": "ipython",
    "version": 3
   },
   "file_extension": ".py",
   "mimetype": "text/x-python",
   "name": "python",
   "nbconvert_exporter": "python",
   "pygments_lexer": "ipython3",
   "version": "3.6.7"
  }
 },
 "nbformat": 4,
 "nbformat_minor": 2
}
